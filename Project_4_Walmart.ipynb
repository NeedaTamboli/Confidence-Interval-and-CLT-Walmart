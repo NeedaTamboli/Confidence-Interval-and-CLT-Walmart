{
 "cells": [
  {
   "cell_type": "code",
   "execution_count": 1,
   "id": "40e084de",
   "metadata": {},
   "outputs": [],
   "source": [
    "#Import required libraries"
   ]
  },
  {
   "cell_type": "code",
   "execution_count": 2,
   "id": "d1449464",
   "metadata": {},
   "outputs": [],
   "source": [
    "import numpy as np\n",
    "import pandas as pd\n",
    "import seaborn as sns\n",
    "import matplotlib.pyplot as plt\n",
    "import scipy.stats as stats\n",
    "import warnings\n",
    "warnings.filterwarnings('ignore')"
   ]
  },
  {
   "cell_type": "code",
   "execution_count": 3,
   "id": "bfb19940",
   "metadata": {},
   "outputs": [],
   "source": [
    "#Downloading Dataset Walmart.csv"
   ]
  },
  {
   "cell_type": "code",
   "execution_count": 4,
   "id": "52bd655a",
   "metadata": {},
   "outputs": [
    {
     "name": "stderr",
     "output_type": "stream",
     "text": [
      "Downloading...\n",
      "From: https://d2beiqkhq929f0.cloudfront.net/public_assets/assets/000/001/293/original/walmart_data.csv\n",
      "To: C:\\Users\\Dell\\walmart_data.csv\n",
      "\n",
      "  0%|          | 0.00/23.0M [00:00<?, ?B/s]\n",
      "  2%|2         | 524k/23.0M [00:00<00:09, 2.49MB/s]\n",
      "  5%|4         | 1.05M/23.0M [00:00<00:06, 3.33MB/s]\n",
      "  7%|6         | 1.57M/23.0M [00:00<00:06, 3.18MB/s]\n",
      "  9%|9         | 2.10M/23.0M [00:00<00:06, 3.41MB/s]\n",
      " 11%|#1        | 2.62M/23.0M [00:00<00:05, 3.48MB/s]\n",
      " 14%|#3        | 3.15M/23.0M [00:00<00:05, 3.38MB/s]\n",
      " 16%|#5        | 3.67M/23.0M [00:01<00:06, 3.10MB/s]\n",
      " 18%|#8        | 4.19M/23.0M [00:01<00:05, 3.30MB/s]\n",
      " 20%|##        | 4.72M/23.0M [00:01<00:05, 3.25MB/s]\n",
      " 23%|##2       | 5.24M/23.0M [00:01<00:05, 3.49MB/s]\n",
      " 27%|##7       | 6.29M/23.0M [00:01<00:04, 3.95MB/s]\n",
      " 30%|##9       | 6.82M/23.0M [00:01<00:04, 4.00MB/s]\n",
      " 32%|###1      | 7.34M/23.0M [00:02<00:04, 3.72MB/s]\n",
      " 36%|###6      | 8.39M/23.0M [00:02<00:03, 4.22MB/s]\n",
      " 39%|###8      | 8.91M/23.0M [00:02<00:03, 4.36MB/s]\n",
      " 43%|####3     | 9.96M/23.0M [00:02<00:02, 4.59MB/s]\n",
      " 46%|####5     | 10.5M/23.0M [00:02<00:02, 4.48MB/s]\n",
      " 48%|####7     | 11.0M/23.0M [00:02<00:02, 4.59MB/s]\n",
      " 52%|#####2    | 12.1M/23.0M [00:03<00:02, 4.84MB/s]\n",
      " 55%|#####4    | 12.6M/23.0M [00:04<00:06, 1.58MB/s]\n",
      " 59%|#####9    | 13.6M/23.0M [00:04<00:04, 2.03MB/s]\n",
      " 61%|######1   | 14.2M/23.0M [00:05<00:05, 1.58MB/s]\n",
      " 64%|######3   | 14.7M/23.0M [00:05<00:06, 1.32MB/s]\n",
      " 66%|######6   | 15.2M/23.0M [00:08<00:15, 517kB/s] \n",
      " 71%|#######   | 16.3M/23.0M [00:08<00:08, 837kB/s]\n",
      " 73%|#######2  | 16.8M/23.0M [00:09<00:07, 818kB/s]\n",
      " 75%|#######5  | 17.3M/23.0M [00:09<00:06, 827kB/s]\n",
      " 77%|#######7  | 17.8M/23.0M [00:10<00:06, 774kB/s]\n",
      " 80%|#######9  | 18.4M/23.0M [00:11<00:05, 800kB/s]\n",
      " 82%|########1 | 18.9M/23.0M [00:12<00:05, 701kB/s]\n",
      " 84%|########4 | 19.4M/23.0M [00:13<00:06, 577kB/s]\n",
      " 87%|########6 | 19.9M/23.0M [00:14<00:04, 665kB/s]\n",
      " 89%|########8 | 20.4M/23.0M [00:14<00:03, 689kB/s]\n",
      " 91%|#########1| 21.0M/23.0M [00:15<00:03, 650kB/s]\n",
      " 93%|#########3| 21.5M/23.0M [00:16<00:02, 707kB/s]\n",
      " 96%|#########5| 22.0M/23.0M [00:17<00:01, 715kB/s]\n",
      " 98%|#########7| 22.5M/23.0M [00:17<00:00, 728kB/s]\n",
      "100%|##########| 23.0M/23.0M [00:18<00:00, 745kB/s]\n",
      "100%|##########| 23.0M/23.0M [00:18<00:00, 1.26MB/s]\n"
     ]
    }
   ],
   "source": [
    "!gdown \"https://d2beiqkhq929f0.cloudfront.net/public_assets/assets/000/001/293/original/walmart_data.csv\""
   ]
  },
  {
   "cell_type": "markdown",
   "id": "73a599a6",
   "metadata": {},
   "source": [
    "Problem Statement: The management of Walmart collected the transactional data of customers and want to analyse the purchase characteristics of the customers during the Black Friday sale. \n",
    "Datataset has Different columns like User_ID, Product_ID,Gender,Age,Occupation,City_Category,Stay_IN_Current_City_Tears,Marital_Status,Product_Category and Purchase.\n",
    "The main aim is to find the purchase according to male and female as if Who spends more during the Black Friday sale.\n",
    "1. Male spent vs Female_spent\n",
    "2.Married / Unmarried \n",
    "3.Age wise \n",
    "Different Categories are(['0-17', '55+', '26-35', '46-50', '51-55', '36-45', '18-25'])"
   ]
  },
  {
   "cell_type": "code",
   "execution_count": 5,
   "id": "0b7cc280",
   "metadata": {},
   "outputs": [
    {
     "data": {
      "text/html": [
       "<div>\n",
       "<style scoped>\n",
       "    .dataframe tbody tr th:only-of-type {\n",
       "        vertical-align: middle;\n",
       "    }\n",
       "\n",
       "    .dataframe tbody tr th {\n",
       "        vertical-align: top;\n",
       "    }\n",
       "\n",
       "    .dataframe thead th {\n",
       "        text-align: right;\n",
       "    }\n",
       "</style>\n",
       "<table border=\"1\" class=\"dataframe\">\n",
       "  <thead>\n",
       "    <tr style=\"text-align: right;\">\n",
       "      <th></th>\n",
       "      <th>User_ID</th>\n",
       "      <th>Product_ID</th>\n",
       "      <th>Gender</th>\n",
       "      <th>Age</th>\n",
       "      <th>Occupation</th>\n",
       "      <th>City_Category</th>\n",
       "      <th>Stay_In_Current_City_Years</th>\n",
       "      <th>Marital_Status</th>\n",
       "      <th>Product_Category</th>\n",
       "      <th>Purchase</th>\n",
       "    </tr>\n",
       "  </thead>\n",
       "  <tbody>\n",
       "    <tr>\n",
       "      <th>0</th>\n",
       "      <td>1000001</td>\n",
       "      <td>P00069042</td>\n",
       "      <td>F</td>\n",
       "      <td>0-17</td>\n",
       "      <td>10</td>\n",
       "      <td>A</td>\n",
       "      <td>2</td>\n",
       "      <td>0</td>\n",
       "      <td>3</td>\n",
       "      <td>8370</td>\n",
       "    </tr>\n",
       "    <tr>\n",
       "      <th>1</th>\n",
       "      <td>1000001</td>\n",
       "      <td>P00248942</td>\n",
       "      <td>F</td>\n",
       "      <td>0-17</td>\n",
       "      <td>10</td>\n",
       "      <td>A</td>\n",
       "      <td>2</td>\n",
       "      <td>0</td>\n",
       "      <td>1</td>\n",
       "      <td>15200</td>\n",
       "    </tr>\n",
       "    <tr>\n",
       "      <th>2</th>\n",
       "      <td>1000001</td>\n",
       "      <td>P00087842</td>\n",
       "      <td>F</td>\n",
       "      <td>0-17</td>\n",
       "      <td>10</td>\n",
       "      <td>A</td>\n",
       "      <td>2</td>\n",
       "      <td>0</td>\n",
       "      <td>12</td>\n",
       "      <td>1422</td>\n",
       "    </tr>\n",
       "    <tr>\n",
       "      <th>3</th>\n",
       "      <td>1000001</td>\n",
       "      <td>P00085442</td>\n",
       "      <td>F</td>\n",
       "      <td>0-17</td>\n",
       "      <td>10</td>\n",
       "      <td>A</td>\n",
       "      <td>2</td>\n",
       "      <td>0</td>\n",
       "      <td>12</td>\n",
       "      <td>1057</td>\n",
       "    </tr>\n",
       "    <tr>\n",
       "      <th>4</th>\n",
       "      <td>1000002</td>\n",
       "      <td>P00285442</td>\n",
       "      <td>M</td>\n",
       "      <td>55+</td>\n",
       "      <td>16</td>\n",
       "      <td>C</td>\n",
       "      <td>4+</td>\n",
       "      <td>0</td>\n",
       "      <td>8</td>\n",
       "      <td>7969</td>\n",
       "    </tr>\n",
       "    <tr>\n",
       "      <th>...</th>\n",
       "      <td>...</td>\n",
       "      <td>...</td>\n",
       "      <td>...</td>\n",
       "      <td>...</td>\n",
       "      <td>...</td>\n",
       "      <td>...</td>\n",
       "      <td>...</td>\n",
       "      <td>...</td>\n",
       "      <td>...</td>\n",
       "      <td>...</td>\n",
       "    </tr>\n",
       "    <tr>\n",
       "      <th>550063</th>\n",
       "      <td>1006033</td>\n",
       "      <td>P00372445</td>\n",
       "      <td>M</td>\n",
       "      <td>51-55</td>\n",
       "      <td>13</td>\n",
       "      <td>B</td>\n",
       "      <td>1</td>\n",
       "      <td>1</td>\n",
       "      <td>20</td>\n",
       "      <td>368</td>\n",
       "    </tr>\n",
       "    <tr>\n",
       "      <th>550064</th>\n",
       "      <td>1006035</td>\n",
       "      <td>P00375436</td>\n",
       "      <td>F</td>\n",
       "      <td>26-35</td>\n",
       "      <td>1</td>\n",
       "      <td>C</td>\n",
       "      <td>3</td>\n",
       "      <td>0</td>\n",
       "      <td>20</td>\n",
       "      <td>371</td>\n",
       "    </tr>\n",
       "    <tr>\n",
       "      <th>550065</th>\n",
       "      <td>1006036</td>\n",
       "      <td>P00375436</td>\n",
       "      <td>F</td>\n",
       "      <td>26-35</td>\n",
       "      <td>15</td>\n",
       "      <td>B</td>\n",
       "      <td>4+</td>\n",
       "      <td>1</td>\n",
       "      <td>20</td>\n",
       "      <td>137</td>\n",
       "    </tr>\n",
       "    <tr>\n",
       "      <th>550066</th>\n",
       "      <td>1006038</td>\n",
       "      <td>P00375436</td>\n",
       "      <td>F</td>\n",
       "      <td>55+</td>\n",
       "      <td>1</td>\n",
       "      <td>C</td>\n",
       "      <td>2</td>\n",
       "      <td>0</td>\n",
       "      <td>20</td>\n",
       "      <td>365</td>\n",
       "    </tr>\n",
       "    <tr>\n",
       "      <th>550067</th>\n",
       "      <td>1006039</td>\n",
       "      <td>P00371644</td>\n",
       "      <td>F</td>\n",
       "      <td>46-50</td>\n",
       "      <td>0</td>\n",
       "      <td>B</td>\n",
       "      <td>4+</td>\n",
       "      <td>1</td>\n",
       "      <td>20</td>\n",
       "      <td>490</td>\n",
       "    </tr>\n",
       "  </tbody>\n",
       "</table>\n",
       "<p>550068 rows × 10 columns</p>\n",
       "</div>"
      ],
      "text/plain": [
       "        User_ID Product_ID Gender    Age  Occupation City_Category  \\\n",
       "0       1000001  P00069042      F   0-17          10             A   \n",
       "1       1000001  P00248942      F   0-17          10             A   \n",
       "2       1000001  P00087842      F   0-17          10             A   \n",
       "3       1000001  P00085442      F   0-17          10             A   \n",
       "4       1000002  P00285442      M    55+          16             C   \n",
       "...         ...        ...    ...    ...         ...           ...   \n",
       "550063  1006033  P00372445      M  51-55          13             B   \n",
       "550064  1006035  P00375436      F  26-35           1             C   \n",
       "550065  1006036  P00375436      F  26-35          15             B   \n",
       "550066  1006038  P00375436      F    55+           1             C   \n",
       "550067  1006039  P00371644      F  46-50           0             B   \n",
       "\n",
       "       Stay_In_Current_City_Years  Marital_Status  Product_Category  Purchase  \n",
       "0                               2               0                 3      8370  \n",
       "1                               2               0                 1     15200  \n",
       "2                               2               0                12      1422  \n",
       "3                               2               0                12      1057  \n",
       "4                              4+               0                 8      7969  \n",
       "...                           ...             ...               ...       ...  \n",
       "550063                          1               1                20       368  \n",
       "550064                          3               0                20       371  \n",
       "550065                         4+               1                20       137  \n",
       "550066                          2               0                20       365  \n",
       "550067                         4+               1                20       490  \n",
       "\n",
       "[550068 rows x 10 columns]"
      ]
     },
     "execution_count": 5,
     "metadata": {},
     "output_type": "execute_result"
    }
   ],
   "source": [
    "df = pd.read_csv(\"C:/Users/Dell/walmart_data.csv\")\n",
    "df"
   ]
  },
  {
   "cell_type": "code",
   "execution_count": 6,
   "id": "638f2d8a",
   "metadata": {},
   "outputs": [
    {
     "data": {
      "text/plain": [
       "(550068, 10)"
      ]
     },
     "execution_count": 6,
     "metadata": {},
     "output_type": "execute_result"
    }
   ],
   "source": [
    "df.shape"
   ]
  },
  {
   "cell_type": "markdown",
   "id": "cbf27e71",
   "metadata": {},
   "source": [
    "#The dataset contain around 5.5million rows of data and 10 columns"
   ]
  },
  {
   "cell_type": "code",
   "execution_count": 7,
   "id": "4c6c0126",
   "metadata": {},
   "outputs": [
    {
     "name": "stdout",
     "output_type": "stream",
     "text": [
      "<class 'pandas.core.frame.DataFrame'>\n",
      "RangeIndex: 550068 entries, 0 to 550067\n",
      "Data columns (total 10 columns):\n",
      " #   Column                      Non-Null Count   Dtype \n",
      "---  ------                      --------------   ----- \n",
      " 0   User_ID                     550068 non-null  int64 \n",
      " 1   Product_ID                  550068 non-null  object\n",
      " 2   Gender                      550068 non-null  object\n",
      " 3   Age                         550068 non-null  object\n",
      " 4   Occupation                  550068 non-null  int64 \n",
      " 5   City_Category               550068 non-null  object\n",
      " 6   Stay_In_Current_City_Years  550068 non-null  object\n",
      " 7   Marital_Status              550068 non-null  int64 \n",
      " 8   Product_Category            550068 non-null  int64 \n",
      " 9   Purchase                    550068 non-null  int64 \n",
      "dtypes: int64(5), object(5)\n",
      "memory usage: 42.0+ MB\n"
     ]
    }
   ],
   "source": [
    "df.info()"
   ]
  },
  {
   "cell_type": "markdown",
   "id": "dcaae4ea",
   "metadata": {},
   "source": [
    "#Dataset do not have any NULL values in it."
   ]
  },
  {
   "cell_type": "markdown",
   "id": "00b7a21f",
   "metadata": {},
   "source": [
    "#Creating one more column categorical saying User Married or Unmarried. provided 0 for Unmarried and 1 for Married "
   ]
  },
  {
   "cell_type": "code",
   "execution_count": 8,
   "id": "3a48d5d2",
   "metadata": {},
   "outputs": [],
   "source": [
    "def Marital_Status_Category(val):\n",
    "    if val == 0 :\n",
    "        return \"Unmarried\"\n",
    "    else:\n",
    "        return \"Married\"\n",
    "df[\"Marital_Status_category\"] = df[\"Marital_Status\"].apply(Marital_Status_Category)\n",
    "##Sample space = (\"Married, Unmarried\")"
   ]
  },
  {
   "cell_type": "code",
   "execution_count": 9,
   "id": "893bd0d3",
   "metadata": {},
   "outputs": [
    {
     "data": {
      "text/html": [
       "<div>\n",
       "<style scoped>\n",
       "    .dataframe tbody tr th:only-of-type {\n",
       "        vertical-align: middle;\n",
       "    }\n",
       "\n",
       "    .dataframe tbody tr th {\n",
       "        vertical-align: top;\n",
       "    }\n",
       "\n",
       "    .dataframe thead th {\n",
       "        text-align: right;\n",
       "    }\n",
       "</style>\n",
       "<table border=\"1\" class=\"dataframe\">\n",
       "  <thead>\n",
       "    <tr style=\"text-align: right;\">\n",
       "      <th></th>\n",
       "      <th>count</th>\n",
       "      <th>mean</th>\n",
       "      <th>std</th>\n",
       "      <th>min</th>\n",
       "      <th>25%</th>\n",
       "      <th>50%</th>\n",
       "      <th>75%</th>\n",
       "      <th>max</th>\n",
       "    </tr>\n",
       "  </thead>\n",
       "  <tbody>\n",
       "    <tr>\n",
       "      <th>User_ID</th>\n",
       "      <td>550068.0</td>\n",
       "      <td>1.003029e+06</td>\n",
       "      <td>1727.591586</td>\n",
       "      <td>1000001.0</td>\n",
       "      <td>1001516.0</td>\n",
       "      <td>1003077.0</td>\n",
       "      <td>1004478.0</td>\n",
       "      <td>1006040.0</td>\n",
       "    </tr>\n",
       "    <tr>\n",
       "      <th>Occupation</th>\n",
       "      <td>550068.0</td>\n",
       "      <td>8.076707e+00</td>\n",
       "      <td>6.522660</td>\n",
       "      <td>0.0</td>\n",
       "      <td>2.0</td>\n",
       "      <td>7.0</td>\n",
       "      <td>14.0</td>\n",
       "      <td>20.0</td>\n",
       "    </tr>\n",
       "    <tr>\n",
       "      <th>Marital_Status</th>\n",
       "      <td>550068.0</td>\n",
       "      <td>4.096530e-01</td>\n",
       "      <td>0.491770</td>\n",
       "      <td>0.0</td>\n",
       "      <td>0.0</td>\n",
       "      <td>0.0</td>\n",
       "      <td>1.0</td>\n",
       "      <td>1.0</td>\n",
       "    </tr>\n",
       "    <tr>\n",
       "      <th>Product_Category</th>\n",
       "      <td>550068.0</td>\n",
       "      <td>5.404270e+00</td>\n",
       "      <td>3.936211</td>\n",
       "      <td>1.0</td>\n",
       "      <td>1.0</td>\n",
       "      <td>5.0</td>\n",
       "      <td>8.0</td>\n",
       "      <td>20.0</td>\n",
       "    </tr>\n",
       "    <tr>\n",
       "      <th>Purchase</th>\n",
       "      <td>550068.0</td>\n",
       "      <td>9.263969e+03</td>\n",
       "      <td>5023.065394</td>\n",
       "      <td>12.0</td>\n",
       "      <td>5823.0</td>\n",
       "      <td>8047.0</td>\n",
       "      <td>12054.0</td>\n",
       "      <td>23961.0</td>\n",
       "    </tr>\n",
       "  </tbody>\n",
       "</table>\n",
       "</div>"
      ],
      "text/plain": [
       "                     count          mean          std        min        25%  \\\n",
       "User_ID           550068.0  1.003029e+06  1727.591586  1000001.0  1001516.0   \n",
       "Occupation        550068.0  8.076707e+00     6.522660        0.0        2.0   \n",
       "Marital_Status    550068.0  4.096530e-01     0.491770        0.0        0.0   \n",
       "Product_Category  550068.0  5.404270e+00     3.936211        1.0        1.0   \n",
       "Purchase          550068.0  9.263969e+03  5023.065394       12.0     5823.0   \n",
       "\n",
       "                        50%        75%        max  \n",
       "User_ID           1003077.0  1004478.0  1006040.0  \n",
       "Occupation              7.0       14.0       20.0  \n",
       "Marital_Status          0.0        1.0        1.0  \n",
       "Product_Category        5.0        8.0       20.0  \n",
       "Purchase             8047.0    12054.0    23961.0  "
      ]
     },
     "execution_count": 9,
     "metadata": {},
     "output_type": "execute_result"
    }
   ],
   "source": [
    "df.describe().T"
   ]
  },
  {
   "cell_type": "code",
   "execution_count": 10,
   "id": "c82ec601",
   "metadata": {},
   "outputs": [
    {
     "data": {
      "text/html": [
       "<div>\n",
       "<style scoped>\n",
       "    .dataframe tbody tr th:only-of-type {\n",
       "        vertical-align: middle;\n",
       "    }\n",
       "\n",
       "    .dataframe tbody tr th {\n",
       "        vertical-align: top;\n",
       "    }\n",
       "\n",
       "    .dataframe thead th {\n",
       "        text-align: right;\n",
       "    }\n",
       "</style>\n",
       "<table border=\"1\" class=\"dataframe\">\n",
       "  <thead>\n",
       "    <tr style=\"text-align: right;\">\n",
       "      <th></th>\n",
       "      <th>count</th>\n",
       "      <th>unique</th>\n",
       "      <th>top</th>\n",
       "      <th>freq</th>\n",
       "    </tr>\n",
       "  </thead>\n",
       "  <tbody>\n",
       "    <tr>\n",
       "      <th>Product_ID</th>\n",
       "      <td>550068</td>\n",
       "      <td>3631</td>\n",
       "      <td>P00265242</td>\n",
       "      <td>1880</td>\n",
       "    </tr>\n",
       "    <tr>\n",
       "      <th>Gender</th>\n",
       "      <td>550068</td>\n",
       "      <td>2</td>\n",
       "      <td>M</td>\n",
       "      <td>414259</td>\n",
       "    </tr>\n",
       "    <tr>\n",
       "      <th>Age</th>\n",
       "      <td>550068</td>\n",
       "      <td>7</td>\n",
       "      <td>26-35</td>\n",
       "      <td>219587</td>\n",
       "    </tr>\n",
       "    <tr>\n",
       "      <th>City_Category</th>\n",
       "      <td>550068</td>\n",
       "      <td>3</td>\n",
       "      <td>B</td>\n",
       "      <td>231173</td>\n",
       "    </tr>\n",
       "    <tr>\n",
       "      <th>Stay_In_Current_City_Years</th>\n",
       "      <td>550068</td>\n",
       "      <td>5</td>\n",
       "      <td>1</td>\n",
       "      <td>193821</td>\n",
       "    </tr>\n",
       "    <tr>\n",
       "      <th>Marital_Status_category</th>\n",
       "      <td>550068</td>\n",
       "      <td>2</td>\n",
       "      <td>Unmarried</td>\n",
       "      <td>324731</td>\n",
       "    </tr>\n",
       "  </tbody>\n",
       "</table>\n",
       "</div>"
      ],
      "text/plain": [
       "                             count unique        top    freq\n",
       "Product_ID                  550068   3631  P00265242    1880\n",
       "Gender                      550068      2          M  414259\n",
       "Age                         550068      7      26-35  219587\n",
       "City_Category               550068      3          B  231173\n",
       "Stay_In_Current_City_Years  550068      5          1  193821\n",
       "Marital_Status_category     550068      2  Unmarried  324731"
      ]
     },
     "execution_count": 10,
     "metadata": {},
     "output_type": "execute_result"
    }
   ],
   "source": [
    "df.describe(include= \"object\").T"
   ]
  },
  {
   "cell_type": "markdown",
   "id": "039dd131",
   "metadata": {},
   "source": [
    "#From the above table we can infer that\n",
    "1.The most popular product is P00265242\n",
    "2.Unmarried people are more contributed in the Black Friday Sale\n",
    "3.Specially unmarried Male are the Top contributors is what can infer from the column Married Gender."
   ]
  },
  {
   "cell_type": "code",
   "execution_count": 11,
   "id": "c957b658",
   "metadata": {},
   "outputs": [],
   "source": [
    "#converting Stay_In_Current_City_Years  into category"
   ]
  },
  {
   "cell_type": "code",
   "execution_count": 12,
   "id": "f8720247",
   "metadata": {},
   "outputs": [],
   "source": [
    "#Replace '4+' to 4\n",
    "df['Stay_In_Current_City_Years']=df['Stay_In_Current_City_Years'].replace('4+',4)\n",
    "\n",
    "df['Stay_In_Current_City_Years'] = df['Stay_In_Current_City_Years'].astype(\"category\")"
   ]
  },
  {
   "cell_type": "code",
   "execution_count": 13,
   "id": "225deca5",
   "metadata": {},
   "outputs": [],
   "source": [
    "#changing it from object dtype to category  to save memory\n",
    "df[\"Age\"]=df[\"Age\"].astype(\"category\")\n",
    "df[\"Gender\"]=df[\"Gender\"].astype(\"category\")\n",
    "df[\"City_Category\"]=df[\"City_Category\"].astype(\"category\")\n",
    "df[\"Product_Category\"]=df[\"Product_Category\"].astype(\"category\")"
   ]
  },
  {
   "cell_type": "code",
   "execution_count": 14,
   "id": "7000162b",
   "metadata": {},
   "outputs": [],
   "source": [
    "#Get TOP 10 product sold during sale."
   ]
  },
  {
   "cell_type": "code",
   "execution_count": 15,
   "id": "ea6d18c0",
   "metadata": {},
   "outputs": [
    {
     "data": {
      "text/html": [
       "<div>\n",
       "<style scoped>\n",
       "    .dataframe tbody tr th:only-of-type {\n",
       "        vertical-align: middle;\n",
       "    }\n",
       "\n",
       "    .dataframe tbody tr th {\n",
       "        vertical-align: top;\n",
       "    }\n",
       "\n",
       "    .dataframe thead th {\n",
       "        text-align: right;\n",
       "    }\n",
       "</style>\n",
       "<table border=\"1\" class=\"dataframe\">\n",
       "  <thead>\n",
       "    <tr style=\"text-align: right;\">\n",
       "      <th></th>\n",
       "      <th>Product_ID</th>\n",
       "      <th>Count</th>\n",
       "    </tr>\n",
       "  </thead>\n",
       "  <tbody>\n",
       "    <tr>\n",
       "      <th>0</th>\n",
       "      <td>P00265242</td>\n",
       "      <td>1880</td>\n",
       "    </tr>\n",
       "    <tr>\n",
       "      <th>1</th>\n",
       "      <td>P00025442</td>\n",
       "      <td>1615</td>\n",
       "    </tr>\n",
       "    <tr>\n",
       "      <th>2</th>\n",
       "      <td>P00110742</td>\n",
       "      <td>1612</td>\n",
       "    </tr>\n",
       "    <tr>\n",
       "      <th>3</th>\n",
       "      <td>P00112142</td>\n",
       "      <td>1562</td>\n",
       "    </tr>\n",
       "    <tr>\n",
       "      <th>4</th>\n",
       "      <td>P00057642</td>\n",
       "      <td>1470</td>\n",
       "    </tr>\n",
       "    <tr>\n",
       "      <th>5</th>\n",
       "      <td>P00184942</td>\n",
       "      <td>1440</td>\n",
       "    </tr>\n",
       "    <tr>\n",
       "      <th>6</th>\n",
       "      <td>P00046742</td>\n",
       "      <td>1438</td>\n",
       "    </tr>\n",
       "    <tr>\n",
       "      <th>7</th>\n",
       "      <td>P00058042</td>\n",
       "      <td>1422</td>\n",
       "    </tr>\n",
       "    <tr>\n",
       "      <th>8</th>\n",
       "      <td>P00059442</td>\n",
       "      <td>1406</td>\n",
       "    </tr>\n",
       "    <tr>\n",
       "      <th>9</th>\n",
       "      <td>P00145042</td>\n",
       "      <td>1406</td>\n",
       "    </tr>\n",
       "  </tbody>\n",
       "</table>\n",
       "</div>"
      ],
      "text/plain": [
       "  Product_ID  Count\n",
       "0  P00265242   1880\n",
       "1  P00025442   1615\n",
       "2  P00110742   1612\n",
       "3  P00112142   1562\n",
       "4  P00057642   1470\n",
       "5  P00184942   1440\n",
       "6  P00046742   1438\n",
       "7  P00058042   1422\n",
       "8  P00059442   1406\n",
       "9  P00145042   1406"
      ]
     },
     "execution_count": 15,
     "metadata": {},
     "output_type": "execute_result"
    }
   ],
   "source": [
    "temp=df['Product_ID'].value_counts().reset_index()\n",
    "temp.columns=['Product_ID','Count']\n",
    "temp=temp.sort_values(by='Count', ascending=False)\n",
    "temp.head(10)"
   ]
  },
  {
   "cell_type": "markdown",
   "id": "19a4ddaf",
   "metadata": {},
   "source": [
    "The top 10 sold product IDs are mentioned above with its total count of sales. P00265242 is the Top selling Product"
   ]
  },
  {
   "cell_type": "code",
   "execution_count": 16,
   "id": "bad1e40f",
   "metadata": {},
   "outputs": [
    {
     "data": {
      "text/html": [
       "<div>\n",
       "<style scoped>\n",
       "    .dataframe tbody tr th:only-of-type {\n",
       "        vertical-align: middle;\n",
       "    }\n",
       "\n",
       "    .dataframe tbody tr th {\n",
       "        vertical-align: top;\n",
       "    }\n",
       "\n",
       "    .dataframe thead th {\n",
       "        text-align: right;\n",
       "    }\n",
       "</style>\n",
       "<table border=\"1\" class=\"dataframe\">\n",
       "  <thead>\n",
       "    <tr style=\"text-align: right;\">\n",
       "      <th></th>\n",
       "      <th>Product_ID</th>\n",
       "      <th>Purchase</th>\n",
       "    </tr>\n",
       "  </thead>\n",
       "  <tbody>\n",
       "    <tr>\n",
       "      <th>249</th>\n",
       "      <td>P00025442</td>\n",
       "      <td>27995166</td>\n",
       "    </tr>\n",
       "    <tr>\n",
       "      <th>1016</th>\n",
       "      <td>P00110742</td>\n",
       "      <td>26722309</td>\n",
       "    </tr>\n",
       "    <tr>\n",
       "      <th>2443</th>\n",
       "      <td>P00255842</td>\n",
       "      <td>25168963</td>\n",
       "    </tr>\n",
       "    <tr>\n",
       "      <th>582</th>\n",
       "      <td>P00059442</td>\n",
       "      <td>24338343</td>\n",
       "    </tr>\n",
       "    <tr>\n",
       "      <th>1745</th>\n",
       "      <td>P00184942</td>\n",
       "      <td>24334887</td>\n",
       "    </tr>\n",
       "    <tr>\n",
       "      <th>1030</th>\n",
       "      <td>P00112142</td>\n",
       "      <td>24216006</td>\n",
       "    </tr>\n",
       "    <tr>\n",
       "      <th>1018</th>\n",
       "      <td>P00110942</td>\n",
       "      <td>23639564</td>\n",
       "    </tr>\n",
       "    <tr>\n",
       "      <th>2263</th>\n",
       "      <td>P00237542</td>\n",
       "      <td>23425576</td>\n",
       "    </tr>\n",
       "    <tr>\n",
       "      <th>565</th>\n",
       "      <td>P00057642</td>\n",
       "      <td>23102780</td>\n",
       "    </tr>\n",
       "    <tr>\n",
       "      <th>104</th>\n",
       "      <td>P00010742</td>\n",
       "      <td>22164153</td>\n",
       "    </tr>\n",
       "  </tbody>\n",
       "</table>\n",
       "</div>"
      ],
      "text/plain": [
       "     Product_ID  Purchase\n",
       "249   P00025442  27995166\n",
       "1016  P00110742  26722309\n",
       "2443  P00255842  25168963\n",
       "582   P00059442  24338343\n",
       "1745  P00184942  24334887\n",
       "1030  P00112142  24216006\n",
       "1018  P00110942  23639564\n",
       "2263  P00237542  23425576\n",
       "565   P00057642  23102780\n",
       "104   P00010742  22164153"
      ]
     },
     "execution_count": 16,
     "metadata": {},
     "output_type": "execute_result"
    }
   ],
   "source": [
    "temp=df.groupby(['Product_ID'])['Purchase'].sum().reset_index().sort_values(by='Purchase', ascending=False)\n",
    "temp.head(10)"
   ]
  },
  {
   "cell_type": "markdown",
   "id": "f5aff138",
   "metadata": {},
   "source": [
    "The total sum of each product during Black Friday sale is shown in the above table. These are the TOP 10 contributing Products in our revenue. "
   ]
  },
  {
   "cell_type": "code",
   "execution_count": 17,
   "id": "ccfca19e",
   "metadata": {},
   "outputs": [
    {
     "data": {
      "text/html": [
       "<div>\n",
       "<style scoped>\n",
       "    .dataframe tbody tr th:only-of-type {\n",
       "        vertical-align: middle;\n",
       "    }\n",
       "\n",
       "    .dataframe tbody tr th {\n",
       "        vertical-align: top;\n",
       "    }\n",
       "\n",
       "    .dataframe thead th {\n",
       "        text-align: right;\n",
       "    }\n",
       "</style>\n",
       "<table border=\"1\" class=\"dataframe\">\n",
       "  <thead>\n",
       "    <tr style=\"text-align: right;\">\n",
       "      <th></th>\n",
       "      <th>User_ID</th>\n",
       "      <th>Purchase</th>\n",
       "    </tr>\n",
       "  </thead>\n",
       "  <tbody>\n",
       "    <tr>\n",
       "      <th>4166</th>\n",
       "      <td>1004277</td>\n",
       "      <td>10536909</td>\n",
       "    </tr>\n",
       "    <tr>\n",
       "      <th>1634</th>\n",
       "      <td>1001680</td>\n",
       "      <td>8699596</td>\n",
       "    </tr>\n",
       "    <tr>\n",
       "      <th>2831</th>\n",
       "      <td>1002909</td>\n",
       "      <td>7577756</td>\n",
       "    </tr>\n",
       "    <tr>\n",
       "      <th>1885</th>\n",
       "      <td>1001941</td>\n",
       "      <td>6817493</td>\n",
       "    </tr>\n",
       "    <tr>\n",
       "      <th>416</th>\n",
       "      <td>1000424</td>\n",
       "      <td>6573609</td>\n",
       "    </tr>\n",
       "    <tr>\n",
       "      <th>4335</th>\n",
       "      <td>1004448</td>\n",
       "      <td>6566245</td>\n",
       "    </tr>\n",
       "    <tr>\n",
       "      <th>5683</th>\n",
       "      <td>1005831</td>\n",
       "      <td>6512433</td>\n",
       "    </tr>\n",
       "    <tr>\n",
       "      <th>981</th>\n",
       "      <td>1001015</td>\n",
       "      <td>6511314</td>\n",
       "    </tr>\n",
       "    <tr>\n",
       "      <th>3297</th>\n",
       "      <td>1003391</td>\n",
       "      <td>6477160</td>\n",
       "    </tr>\n",
       "    <tr>\n",
       "      <th>1142</th>\n",
       "      <td>1001181</td>\n",
       "      <td>6387961</td>\n",
       "    </tr>\n",
       "  </tbody>\n",
       "</table>\n",
       "</div>"
      ],
      "text/plain": [
       "      User_ID  Purchase\n",
       "4166  1004277  10536909\n",
       "1634  1001680   8699596\n",
       "2831  1002909   7577756\n",
       "1885  1001941   6817493\n",
       "416   1000424   6573609\n",
       "4335  1004448   6566245\n",
       "5683  1005831   6512433\n",
       "981   1001015   6511314\n",
       "3297  1003391   6477160\n",
       "1142  1001181   6387961"
      ]
     },
     "execution_count": 17,
     "metadata": {},
     "output_type": "execute_result"
    }
   ],
   "source": [
    "temp=df.groupby(['User_ID'])['Purchase'].sum().reset_index().sort_values(by='Purchase', ascending=False)\n",
    "temp.head(10)"
   ]
  },
  {
   "cell_type": "markdown",
   "id": "1c1d760b",
   "metadata": {},
   "source": [
    "These are the TOP 10 customers contributing in black Friday sale."
   ]
  },
  {
   "cell_type": "markdown",
   "id": "3d09f51e",
   "metadata": {},
   "source": [
    "So These Customers should be rewarded or given some more different offers so as to increase the revenue of our company."
   ]
  },
  {
   "cell_type": "markdown",
   "id": "de2cc85a",
   "metadata": {},
   "source": [
    "# Non graphical Analysis(Unique Values and Value Counts)"
   ]
  },
  {
   "cell_type": "code",
   "execution_count": 18,
   "id": "7ed3fda1",
   "metadata": {},
   "outputs": [
    {
     "name": "stdout",
     "output_type": "stream",
     "text": [
      "User_ID has 5891 unique values\n",
      "\n",
      "Product_ID has 3631 unique values\n",
      "\n",
      "Gender has 2 unique values\n",
      "\n",
      "Age has 7 unique values\n",
      "\n",
      "Occupation has 21 unique values\n",
      "\n",
      "City_Category has 3 unique values\n",
      "\n",
      "Stay_In_Current_City_Years has 5 unique values\n",
      "\n",
      "Marital_Status has 2 unique values\n",
      "\n",
      "Product_Category has 20 unique values\n",
      "\n",
      "Purchase has 18105 unique values\n",
      "\n",
      "Marital_Status_category has 2 unique values\n",
      "\n"
     ]
    }
   ],
   "source": [
    "for i in df.columns:\n",
    "    print(f'{i} has {df[i].nunique()} unique values')\n",
    "    print(\"\"*20)"
   ]
  },
  {
   "cell_type": "code",
   "execution_count": 19,
   "id": "f871c76e",
   "metadata": {},
   "outputs": [
    {
     "name": "stdout",
     "output_type": "stream",
     "text": [
      "User_ID\n",
      "~~~~~~~~~~~~~~~~~~~~\n",
      "1001680    1026\n",
      "1004277     979\n",
      "1001941     898\n",
      "1001181     862\n",
      "1000889     823\n",
      "           ... \n",
      "1002690       7\n",
      "1002111       7\n",
      "1005810       7\n",
      "1004991       7\n",
      "1000708       6\n",
      "Name: User_ID, Length: 5891, dtype: int64\n",
      "----------------------------------------\n",
      "\n",
      "Product_ID\n",
      "~~~~~~~~~~~~~~~~~~~~\n",
      "P00265242    1880\n",
      "P00025442    1615\n",
      "P00110742    1612\n",
      "P00112142    1562\n",
      "P00057642    1470\n",
      "             ... \n",
      "P00314842       1\n",
      "P00298842       1\n",
      "P00231642       1\n",
      "P00204442       1\n",
      "P00066342       1\n",
      "Name: Product_ID, Length: 3631, dtype: int64\n",
      "----------------------------------------\n",
      "\n",
      "Gender\n",
      "~~~~~~~~~~~~~~~~~~~~\n",
      "M    414259\n",
      "F    135809\n",
      "Name: Gender, dtype: int64\n",
      "----------------------------------------\n",
      "\n",
      "Age\n",
      "~~~~~~~~~~~~~~~~~~~~\n",
      "26-35    219587\n",
      "36-45    110013\n",
      "18-25     99660\n",
      "46-50     45701\n",
      "51-55     38501\n",
      "55+       21504\n",
      "0-17      15102\n",
      "Name: Age, dtype: int64\n",
      "----------------------------------------\n",
      "\n",
      "Occupation\n",
      "~~~~~~~~~~~~~~~~~~~~\n",
      "4     72308\n",
      "0     69638\n",
      "7     59133\n",
      "1     47426\n",
      "17    40043\n",
      "20    33562\n",
      "12    31179\n",
      "14    27309\n",
      "2     26588\n",
      "16    25371\n",
      "6     20355\n",
      "3     17650\n",
      "10    12930\n",
      "5     12177\n",
      "15    12165\n",
      "11    11586\n",
      "19     8461\n",
      "13     7728\n",
      "18     6622\n",
      "9      6291\n",
      "8      1546\n",
      "Name: Occupation, dtype: int64\n",
      "----------------------------------------\n",
      "\n",
      "City_Category\n",
      "~~~~~~~~~~~~~~~~~~~~\n",
      "B    231173\n",
      "C    171175\n",
      "A    147720\n",
      "Name: City_Category, dtype: int64\n",
      "----------------------------------------\n",
      "\n",
      "Stay_In_Current_City_Years\n",
      "~~~~~~~~~~~~~~~~~~~~\n",
      "1    193821\n",
      "2    101838\n",
      "3     95285\n",
      "4     84726\n",
      "0     74398\n",
      "Name: Stay_In_Current_City_Years, dtype: int64\n",
      "----------------------------------------\n",
      "\n",
      "Marital_Status\n",
      "~~~~~~~~~~~~~~~~~~~~\n",
      "0    324731\n",
      "1    225337\n",
      "Name: Marital_Status, dtype: int64\n",
      "----------------------------------------\n",
      "\n",
      "Product_Category\n",
      "~~~~~~~~~~~~~~~~~~~~\n",
      "5     150933\n",
      "1     140378\n",
      "8     113925\n",
      "11     24287\n",
      "2      23864\n",
      "6      20466\n",
      "3      20213\n",
      "4      11753\n",
      "16      9828\n",
      "15      6290\n",
      "13      5549\n",
      "10      5125\n",
      "12      3947\n",
      "7       3721\n",
      "18      3125\n",
      "20      2550\n",
      "19      1603\n",
      "14      1523\n",
      "17       578\n",
      "9        410\n",
      "Name: Product_Category, dtype: int64\n",
      "----------------------------------------\n",
      "\n",
      "Purchase\n",
      "~~~~~~~~~~~~~~~~~~~~\n",
      "7011     191\n",
      "7193     188\n",
      "6855     187\n",
      "6891     184\n",
      "7012     183\n",
      "        ... \n",
      "23491      1\n",
      "18345      1\n",
      "3372       1\n",
      "855        1\n",
      "21489      1\n",
      "Name: Purchase, Length: 18105, dtype: int64\n",
      "----------------------------------------\n",
      "\n",
      "Marital_Status_category\n",
      "~~~~~~~~~~~~~~~~~~~~\n",
      "Unmarried    324731\n",
      "Married      225337\n",
      "Name: Marital_Status_category, dtype: int64\n",
      "----------------------------------------\n",
      "\n"
     ]
    }
   ],
   "source": [
    "for i in range(df.shape[1]):\n",
    "    print(df.columns[i])\n",
    "    print(\"~\"*20)\n",
    "    print(df.iloc[:,i].value_counts())\n",
    "    print(\"-\"*40)\n",
    "    print()"
   ]
  },
  {
   "cell_type": "code",
   "execution_count": 20,
   "id": "a637a7c3",
   "metadata": {},
   "outputs": [
    {
     "data": {
      "text/plain": [
       "User_ID                        5891\n",
       "Product_ID                     3631\n",
       "Gender                            2\n",
       "Age                               7\n",
       "Occupation                       21\n",
       "City_Category                     3\n",
       "Stay_In_Current_City_Years        5\n",
       "Marital_Status                    2\n",
       "Product_Category                 20\n",
       "Purchase                      18105\n",
       "Marital_Status_category           2\n",
       "dtype: int64"
      ]
     },
     "execution_count": 20,
     "metadata": {},
     "output_type": "execute_result"
    }
   ],
   "source": [
    "df.nunique()"
   ]
  },
  {
   "cell_type": "markdown",
   "id": "eae5e716",
   "metadata": {},
   "source": [
    "Purchase is the amount of purchase. it is continuous variables.\n",
    "\n",
    "User_ID,Product_ID are for identification purpose.\n",
    "\n",
    "Gender, Age, Occupation,city_category,Stay_In_Current_City_Years,Marital_status,product_category are Categorical Variables."
   ]
  },
  {
   "cell_type": "raw",
   "id": "ff42ca30",
   "metadata": {},
   "source": [
    "df.groupby([\"Gender\"])[\"User_ID\"].nunique()"
   ]
  },
  {
   "cell_type": "markdown",
   "id": "ff26bc0c",
   "metadata": {},
   "source": [
    "# Visual Analysis"
   ]
  },
  {
   "cell_type": "code",
   "execution_count": 21,
   "id": "039c4c7f",
   "metadata": {},
   "outputs": [
    {
     "data": {
      "image/png": "[encoded data removed]",
      "text/plain": [
       "<Figure size 432x288 with 1 Axes>"
      ]
     },
     "metadata": {},
     "output_type": "display_data"
    }
   ],
   "source": [
    "data = df[\"Gender\"].value_counts(normalize = True)*100\n",
    "plt.pie(x = data.values, labels=data.index, autopct='%.0f%%')\n",
    "plt.show()"
   ]
  },
  {
   "cell_type": "markdown",
   "id": "2d66cc90",
   "metadata": {},
   "source": [
    "From here we can infer that the 75% population in given dataset is Male. and that of Female is 25%"
   ]
  },
  {
   "cell_type": "code",
   "execution_count": null,
   "id": "2caa1387",
   "metadata": {},
   "outputs": [],
   "source": []
  },
  {
   "cell_type": "markdown",
   "id": "cb468fce",
   "metadata": {},
   "source": [
    "Actually Out of 5.5L total customers Male Users are 4.2L+ and female are 1.4L+. That is we can say the distribution of Male and female customers id 3:1 "
   ]
  },
  {
   "cell_type": "code",
   "execution_count": 22,
   "id": "3c6ecc72",
   "metadata": {},
   "outputs": [
    {
     "data": {
      "text/plain": [
       "26-35    219587\n",
       "36-45    110013\n",
       "18-25     99660\n",
       "46-50     45701\n",
       "51-55     38501\n",
       "55+       21504\n",
       "0-17      15102\n",
       "Name: Age, dtype: int64"
      ]
     },
     "execution_count": 22,
     "metadata": {},
     "output_type": "execute_result"
    }
   ],
   "source": [
    "df[\"Age\"].value_counts()"
   ]
  },
  {
   "cell_type": "markdown",
   "id": "25d5396f",
   "metadata": {},
   "source": [
    "#The topmost category is 26-35. Actually Users in this age range are contributing most in the sale. Followed by age range 36-45."
   ]
  },
  {
   "cell_type": "code",
   "execution_count": 23,
   "id": "12df1d3a",
   "metadata": {},
   "outputs": [
    {
     "data": {
      "text/plain": [
       "<AxesSubplot:xlabel='Age', ylabel='count'>"
      ]
     },
     "execution_count": 23,
     "metadata": {},
     "output_type": "execute_result"
    },
    {
     "data": {
      "image/png": "[encoded data removed]",
      "text/plain": [
       "<Figure size 432x288 with 1 Axes>"
      ]
     },
     "metadata": {
      "needs_background": "light"
     },
     "output_type": "display_data"
    }
   ],
   "source": [
    "sns.countplot(df[\"Age\"], order = df[\"Age\"].value_counts().index)"
   ]
  },
  {
   "cell_type": "markdown",
   "id": "6a2db22f",
   "metadata": {},
   "source": [
    "#It can be seen that age group 26-35 is most active in black Friday sale."
   ]
  },
  {
   "cell_type": "code",
   "execution_count": 24,
   "id": "9fdce6b5",
   "metadata": {},
   "outputs": [
    {
     "data": {
      "text/plain": [
       "<AxesSubplot:xlabel='Age', ylabel='count'>"
      ]
     },
     "execution_count": 24,
     "metadata": {},
     "output_type": "execute_result"
    },
    {
     "data": {
      "image/png": "[encoded data removed]",
      "text/plain": [
       "<Figure size 432x288 with 1 Axes>"
      ]
     },
     "metadata": {
      "needs_background": "light"
     },
     "output_type": "display_data"
    }
   ],
   "source": [
    "sns.countplot(df[\"Age\"],hue = df[\"Gender\"])"
   ]
  },
  {
   "cell_type": "markdown",
   "id": "01e7b041",
   "metadata": {},
   "source": [
    "Males in the age group 26-35 are more active in blackfriday sale. "
   ]
  },
  {
   "cell_type": "markdown",
   "id": "c6ae4204",
   "metadata": {},
   "source": [
    "Males of the age group 18-25 and 36 - 45 are also more active than female of age group 26 to 35."
   ]
  },
  {
   "cell_type": "code",
   "execution_count": 25,
   "id": "839ded1c",
   "metadata": {},
   "outputs": [
    {
     "data": {
      "text/plain": [
       "<AxesSubplot:xlabel='Age', ylabel='count'>"
      ]
     },
     "execution_count": 25,
     "metadata": {},
     "output_type": "execute_result"
    },
    {
     "data": {
      "image/png": "[encoded data removed]",
      "text/plain": [
       "<Figure size 432x288 with 1 Axes>"
      ]
     },
     "metadata": {
      "needs_background": "light"
     },
     "output_type": "display_data"
    }
   ],
   "source": [
    "sns.countplot(df[\"Age\"], hue = df[\"Marital_Status\"])"
   ]
  },
  {
   "cell_type": "markdown",
   "id": "cf0f7baf",
   "metadata": {},
   "source": [
    "We can infer that mostly unmarried people from age group  18-25 to 36-45 are more active in black friday sale  "
   ]
  },
  {
   "cell_type": "markdown",
   "id": "8fd58174",
   "metadata": {},
   "source": [
    "Whereas Married people from age group 26-45 are more active in black friday sale"
   ]
  },
  {
   "cell_type": "markdown",
   "id": "53f60dfa",
   "metadata": {},
   "source": [
    "So here we can see that may be married men must be paying for the purchase of their spouses."
   ]
  },
  {
   "cell_type": "code",
   "execution_count": 26,
   "id": "4159c954",
   "metadata": {},
   "outputs": [
    {
     "data": {
      "text/plain": [
       "<AxesSubplot:xlabel='Product_Category', ylabel='count'>"
      ]
     },
     "execution_count": 26,
     "metadata": {},
     "output_type": "execute_result"
    },
    {
     "data": {
      "image/png": "[encoded data removed]",
      "text/plain": [
       "<Figure size 432x288 with 1 Axes>"
      ]
     },
     "metadata": {
      "needs_background": "light"
     },
     "output_type": "display_data"
    }
   ],
   "source": [
    "sns.countplot(df[\"Product_Category\"], order = df[\"Product_Category\"].value_counts().index)"
   ]
  },
  {
   "cell_type": "markdown",
   "id": "e362f60b",
   "metadata": {},
   "source": [
    "Product 1,5, and 8 are the highest selling products out of all 20."
   ]
  },
  {
   "cell_type": "code",
   "execution_count": 27,
   "id": "e6f011eb",
   "metadata": {},
   "outputs": [
    {
     "data": {
      "text/plain": [
       "<AxesSubplot:xlabel='City_Category', ylabel='count'>"
      ]
     },
     "execution_count": 27,
     "metadata": {},
     "output_type": "execute_result"
    },
    {
     "data": {
      "image/png": "[encoded data removed]",
      "text/plain": [
       "<Figure size 432x288 with 1 Axes>"
      ]
     },
     "metadata": {
      "needs_background": "light"
     },
     "output_type": "display_data"
    }
   ],
   "source": [
    "sns.countplot(df[\"City_Category\"], order = df[\"City_Category\"].value_counts().index)"
   ]
  },
  {
   "cell_type": "markdown",
   "id": "63ec55a8",
   "metadata": {},
   "source": [
    "Maximum Users are from the City B"
   ]
  },
  {
   "cell_type": "code",
   "execution_count": 28,
   "id": "f06821ec",
   "metadata": {},
   "outputs": [
    {
     "data": {
      "text/plain": [
       "<AxesSubplot:xlabel='Stay_In_Current_City_Years', ylabel='count'>"
      ]
     },
     "execution_count": 28,
     "metadata": {},
     "output_type": "execute_result"
    },
    {
     "data": {
      "image/png": "[encoded data removed]",
      "text/plain": [
       "<Figure size 432x288 with 1 Axes>"
      ]
     },
     "metadata": {
      "needs_background": "light"
     },
     "output_type": "display_data"
    }
   ],
   "source": [
    "sns.countplot(df[\"Stay_In_Current_City_Years\"], order = df[\"Stay_In_Current_City_Years\"].value_counts().index)"
   ]
  },
  {
   "cell_type": "markdown",
   "id": "0010c47c",
   "metadata": {},
   "source": [
    "People who are living for more than a year in a particular country are buying more and spending more in the sale."
   ]
  },
  {
   "cell_type": "code",
   "execution_count": 29,
   "id": "e6f859d3",
   "metadata": {},
   "outputs": [
    {
     "data": {
      "text/html": [
       "<div>\n",
       "<style scoped>\n",
       "    .dataframe tbody tr th:only-of-type {\n",
       "        vertical-align: middle;\n",
       "    }\n",
       "\n",
       "    .dataframe tbody tr th {\n",
       "        vertical-align: top;\n",
       "    }\n",
       "\n",
       "    .dataframe thead th {\n",
       "        text-align: right;\n",
       "    }\n",
       "</style>\n",
       "<table border=\"1\" class=\"dataframe\">\n",
       "  <thead>\n",
       "    <tr style=\"text-align: right;\">\n",
       "      <th></th>\n",
       "      <th>User_ID</th>\n",
       "      <th>Product_ID</th>\n",
       "      <th>Gender</th>\n",
       "      <th>Age</th>\n",
       "      <th>Occupation</th>\n",
       "      <th>City_Category</th>\n",
       "      <th>Stay_In_Current_City_Years</th>\n",
       "      <th>Marital_Status</th>\n",
       "      <th>Product_Category</th>\n",
       "      <th>Purchase</th>\n",
       "      <th>Marital_Status_category</th>\n",
       "      <th>Married_Gender</th>\n",
       "    </tr>\n",
       "  </thead>\n",
       "  <tbody>\n",
       "    <tr>\n",
       "      <th>0</th>\n",
       "      <td>1000001</td>\n",
       "      <td>P00069042</td>\n",
       "      <td>F</td>\n",
       "      <td>0-17</td>\n",
       "      <td>10</td>\n",
       "      <td>A</td>\n",
       "      <td>2</td>\n",
       "      <td>0</td>\n",
       "      <td>3</td>\n",
       "      <td>8370</td>\n",
       "      <td>Unmarried</td>\n",
       "      <td>(F, 0)</td>\n",
       "    </tr>\n",
       "    <tr>\n",
       "      <th>1</th>\n",
       "      <td>1000001</td>\n",
       "      <td>P00248942</td>\n",
       "      <td>F</td>\n",
       "      <td>0-17</td>\n",
       "      <td>10</td>\n",
       "      <td>A</td>\n",
       "      <td>2</td>\n",
       "      <td>0</td>\n",
       "      <td>1</td>\n",
       "      <td>15200</td>\n",
       "      <td>Unmarried</td>\n",
       "      <td>(F, 0)</td>\n",
       "    </tr>\n",
       "    <tr>\n",
       "      <th>2</th>\n",
       "      <td>1000001</td>\n",
       "      <td>P00087842</td>\n",
       "      <td>F</td>\n",
       "      <td>0-17</td>\n",
       "      <td>10</td>\n",
       "      <td>A</td>\n",
       "      <td>2</td>\n",
       "      <td>0</td>\n",
       "      <td>12</td>\n",
       "      <td>1422</td>\n",
       "      <td>Unmarried</td>\n",
       "      <td>(F, 0)</td>\n",
       "    </tr>\n",
       "    <tr>\n",
       "      <th>3</th>\n",
       "      <td>1000001</td>\n",
       "      <td>P00085442</td>\n",
       "      <td>F</td>\n",
       "      <td>0-17</td>\n",
       "      <td>10</td>\n",
       "      <td>A</td>\n",
       "      <td>2</td>\n",
       "      <td>0</td>\n",
       "      <td>12</td>\n",
       "      <td>1057</td>\n",
       "      <td>Unmarried</td>\n",
       "      <td>(F, 0)</td>\n",
       "    </tr>\n",
       "    <tr>\n",
       "      <th>4</th>\n",
       "      <td>1000002</td>\n",
       "      <td>P00285442</td>\n",
       "      <td>M</td>\n",
       "      <td>55+</td>\n",
       "      <td>16</td>\n",
       "      <td>C</td>\n",
       "      <td>4</td>\n",
       "      <td>0</td>\n",
       "      <td>8</td>\n",
       "      <td>7969</td>\n",
       "      <td>Unmarried</td>\n",
       "      <td>(M, 0)</td>\n",
       "    </tr>\n",
       "    <tr>\n",
       "      <th>...</th>\n",
       "      <td>...</td>\n",
       "      <td>...</td>\n",
       "      <td>...</td>\n",
       "      <td>...</td>\n",
       "      <td>...</td>\n",
       "      <td>...</td>\n",
       "      <td>...</td>\n",
       "      <td>...</td>\n",
       "      <td>...</td>\n",
       "      <td>...</td>\n",
       "      <td>...</td>\n",
       "      <td>...</td>\n",
       "    </tr>\n",
       "    <tr>\n",
       "      <th>550063</th>\n",
       "      <td>1006033</td>\n",
       "      <td>P00372445</td>\n",
       "      <td>M</td>\n",
       "      <td>51-55</td>\n",
       "      <td>13</td>\n",
       "      <td>B</td>\n",
       "      <td>1</td>\n",
       "      <td>1</td>\n",
       "      <td>20</td>\n",
       "      <td>368</td>\n",
       "      <td>Married</td>\n",
       "      <td>(M, 1)</td>\n",
       "    </tr>\n",
       "    <tr>\n",
       "      <th>550064</th>\n",
       "      <td>1006035</td>\n",
       "      <td>P00375436</td>\n",
       "      <td>F</td>\n",
       "      <td>26-35</td>\n",
       "      <td>1</td>\n",
       "      <td>C</td>\n",
       "      <td>3</td>\n",
       "      <td>0</td>\n",
       "      <td>20</td>\n",
       "      <td>371</td>\n",
       "      <td>Unmarried</td>\n",
       "      <td>(F, 0)</td>\n",
       "    </tr>\n",
       "    <tr>\n",
       "      <th>550065</th>\n",
       "      <td>1006036</td>\n",
       "      <td>P00375436</td>\n",
       "      <td>F</td>\n",
       "      <td>26-35</td>\n",
       "      <td>15</td>\n",
       "      <td>B</td>\n",
       "      <td>4</td>\n",
       "      <td>1</td>\n",
       "      <td>20</td>\n",
       "      <td>137</td>\n",
       "      <td>Married</td>\n",
       "      <td>(F, 1)</td>\n",
       "    </tr>\n",
       "    <tr>\n",
       "      <th>550066</th>\n",
       "      <td>1006038</td>\n",
       "      <td>P00375436</td>\n",
       "      <td>F</td>\n",
       "      <td>55+</td>\n",
       "      <td>1</td>\n",
       "      <td>C</td>\n",
       "      <td>2</td>\n",
       "      <td>0</td>\n",
       "      <td>20</td>\n",
       "      <td>365</td>\n",
       "      <td>Unmarried</td>\n",
       "      <td>(F, 0)</td>\n",
       "    </tr>\n",
       "    <tr>\n",
       "      <th>550067</th>\n",
       "      <td>1006039</td>\n",
       "      <td>P00371644</td>\n",
       "      <td>F</td>\n",
       "      <td>46-50</td>\n",
       "      <td>0</td>\n",
       "      <td>B</td>\n",
       "      <td>4</td>\n",
       "      <td>1</td>\n",
       "      <td>20</td>\n",
       "      <td>490</td>\n",
       "      <td>Married</td>\n",
       "      <td>(F, 1)</td>\n",
       "    </tr>\n",
       "  </tbody>\n",
       "</table>\n",
       "<p>550068 rows × 12 columns</p>\n",
       "</div>"
      ],
      "text/plain": [
       "        User_ID Product_ID Gender    Age  Occupation City_Category  \\\n",
       "0       1000001  P00069042      F   0-17          10             A   \n",
       "1       1000001  P00248942      F   0-17          10             A   \n",
       "2       1000001  P00087842      F   0-17          10             A   \n",
       "3       1000001  P00085442      F   0-17          10             A   \n",
       "4       1000002  P00285442      M    55+          16             C   \n",
       "...         ...        ...    ...    ...         ...           ...   \n",
       "550063  1006033  P00372445      M  51-55          13             B   \n",
       "550064  1006035  P00375436      F  26-35           1             C   \n",
       "550065  1006036  P00375436      F  26-35          15             B   \n",
       "550066  1006038  P00375436      F    55+           1             C   \n",
       "550067  1006039  P00371644      F  46-50           0             B   \n",
       "\n",
       "       Stay_In_Current_City_Years  Marital_Status Product_Category  Purchase  \\\n",
       "0                               2               0                3      8370   \n",
       "1                               2               0                1     15200   \n",
       "2                               2               0               12      1422   \n",
       "3                               2               0               12      1057   \n",
       "4                               4               0                8      7969   \n",
       "...                           ...             ...              ...       ...   \n",
       "550063                          1               1               20       368   \n",
       "550064                          3               0               20       371   \n",
       "550065                          4               1               20       137   \n",
       "550066                          2               0               20       365   \n",
       "550067                          4               1               20       490   \n",
       "\n",
       "       Marital_Status_category Married_Gender  \n",
       "0                    Unmarried         (F, 0)  \n",
       "1                    Unmarried         (F, 0)  \n",
       "2                    Unmarried         (F, 0)  \n",
       "3                    Unmarried         (F, 0)  \n",
       "4                    Unmarried         (M, 0)  \n",
       "...                        ...            ...  \n",
       "550063                 Married         (M, 1)  \n",
       "550064               Unmarried         (F, 0)  \n",
       "550065                 Married         (F, 1)  \n",
       "550066               Unmarried         (F, 0)  \n",
       "550067                 Married         (F, 1)  \n",
       "\n",
       "[550068 rows x 12 columns]"
      ]
     },
     "execution_count": 29,
     "metadata": {},
     "output_type": "execute_result"
    }
   ],
   "source": [
    "df[\"Married_Gender\"] = df.apply(lambda x: (x[\"Gender\"], x[\"Marital_Status\"]), axis = 1)\n",
    "df"
   ]
  },
  {
   "cell_type": "code",
   "execution_count": 30,
   "id": "6f7a8144",
   "metadata": {},
   "outputs": [
    {
     "data": {
      "text/plain": [
       "<AxesSubplot:xlabel='Product_Category', ylabel='count'>"
      ]
     },
     "execution_count": 30,
     "metadata": {},
     "output_type": "execute_result"
    },
    {
     "data": {
      "image/png": "[encoded data removed]",
      "text/plain": [
       "<Figure size 1080x720 with 1 Axes>"
      ]
     },
     "metadata": {
      "needs_background": "light"
     },
     "output_type": "display_data"
    }
   ],
   "source": [
    "plt.figure(figsize=(15,10))\n",
    "sns.countplot(df['Product_Category'], hue=df['Age'])"
   ]
  },
  {
   "cell_type": "markdown",
   "id": "9c32fb87",
   "metadata": {},
   "source": [
    "Product 1 5 and 8 are the highest purchased and biggest contributor is the age category 26-35.\n",
    "Where as sale of peoduct 9 and 17 is negligible."
   ]
  },
  {
   "cell_type": "code",
   "execution_count": 31,
   "id": "c122df0b",
   "metadata": {},
   "outputs": [
    {
     "data": {
      "text/plain": [
       "<AxesSubplot:xlabel='Age', ylabel='count'>"
      ]
     },
     "execution_count": 31,
     "metadata": {},
     "output_type": "execute_result"
    },
    {
     "data": {
      "image/png": "[encoded data removed]",
      "text/plain": [
       "<Figure size 1080x720 with 1 Axes>"
      ]
     },
     "metadata": {
      "needs_background": "light"
     },
     "output_type": "display_data"
    }
   ],
   "source": [
    "plt.figure(figsize=(15,10))\n",
    "sns.countplot(df[\"Age\"], hue = df[\"Married_Gender\"], order = df[\"Age\"].value_counts().index)"
   ]
  },
  {
   "cell_type": "code",
   "execution_count": null,
   "id": "c575fb0f",
   "metadata": {},
   "outputs": [],
   "source": []
  },
  {
   "cell_type": "markdown",
   "id": "1b8d83eb",
   "metadata": {},
   "source": [
    "The above plot shows 4 categories. \n",
    "Unmarried Female: Unmarried Female till the age of 45 spend more than married Females. Where as after the age of 45 46 married woman expense is increased. Must be buying for their kids.\n",
    "Unmarried Male: Unmarried Male in the Age range 26-35 in the topmost contributor of the black friday sale. After the age of 45 Married Male expense in more than the Unarried male as same for the men and women. They have their kids responsibilities at the most priority level. \n",
    "Married Female : Married female purchase is actually very low as compared to other categories as it seems only married Working Females spend for themselves else many Males spend for their spouse.\n",
    "Married Male:In the Age range 26 to 45 the most responsibilities zone, It seems Married Male have the maximum expense. Must be buying for their chidren, their spouse."
   ]
  },
  {
   "cell_type": "code",
   "execution_count": 32,
   "id": "61be3bd7",
   "metadata": {},
   "outputs": [
    {
     "data": {
      "image/png": "[encoded data removed]",
      "text/plain": [
       "<Figure size 720x432 with 1 Axes>"
      ]
     },
     "metadata": {
      "needs_background": "light"
     },
     "output_type": "display_data"
    }
   ],
   "source": [
    "#Univariate Analysis\n",
    "#Understanding the distribution of data and detecting outliers for continuous variables\n",
    "plt.figure(figsize=(10, 6))\n",
    "sns.histplot(data=df, x='Purchase', kde=True)\n",
    "plt.show()"
   ]
  },
  {
   "cell_type": "code",
   "execution_count": 33,
   "id": "c41665d5",
   "metadata": {},
   "outputs": [
    {
     "data": {
      "image/png": "[encoded data removed]",
      "text/plain": [
       "<Figure size 1440x360 with 1 Axes>"
      ]
     },
     "metadata": {
      "needs_background": "light"
     },
     "output_type": "display_data"
    }
   ],
   "source": [
    "plt.figure(figsize=(20,5))\n",
    "sns.boxplot(data=df, x='Purchase', orient='h')\n",
    "plt.show()\n"
   ]
  },
  {
   "cell_type": "markdown",
   "id": "12572c13",
   "metadata": {},
   "source": [
    "#Observation:\n",
    "Purchase is having outliers"
   ]
  },
  {
   "cell_type": "code",
   "execution_count": 34,
   "id": "658820b5",
   "metadata": {},
   "outputs": [],
   "source": [
    "#Handling outliers\n",
    "df1 = df.copy()"
   ]
  },
  {
   "cell_type": "code",
   "execution_count": 35,
   "id": "eddbeb46",
   "metadata": {
    "collapsed": true
   },
   "outputs": [
    {
     "data": {
      "image/png": "[encoded data removed]",
      "text/plain": [
       "<Figure size 1080x360 with 2 Axes>"
      ]
     },
     "metadata": {
      "needs_background": "light"
     },
     "output_type": "display_data"
    }
   ],
   "source": [
    "#Outlier Treatment: Remove top 5% & bottom 1% of the Column Outlier values\n",
    "Q3 = df1['Purchase'].quantile(0.75)\n",
    "Q1 = df1['Purchase'].quantile(0.25)\n",
    "IQR = Q3-Q1\n",
    "df1 = df1[(df1['Purchase'] > Q1 - 1.5*IQR) & (df1['Purchase'] < Q3 + 1.5*IQR)]\n",
    "# Visualizing our dependent variable for Outliers and Skewness\n",
    "fig = plt.figure(figsize=(15,5))\n",
    "\n",
    "\n",
    "plt.subplot(1,2,1)\n",
    "sns.boxplot(df1[\"Purchase\"])\n",
    "plt.title(\"Boxplot for outliers detection\")\n",
    "plt.xlabel('Purchase')\n",
    "\n",
    "plt.subplot(1,2,2)\n",
    "sns.distplot(df1[\"Purchase\"])\n",
    "\n",
    "plt.title(\"Distribution plot for skewness\")\n",
    "plt.ylabel('Density')\n",
    "plt.xlabel('Purchase')\n",
    "plt.axvline(df1[\"Purchase\"].mean(),color=\"g\")\n",
    "plt.axvline(df1[\"Purchase\"].median(),color=\"b\")\n",
    "plt.axvline(df1[\"Purchase\"].mode()[0],color=\"r\")\n",
    "\n",
    "plt.show()"
   ]
  },
  {
   "cell_type": "code",
   "execution_count": 36,
   "id": "5674a97b",
   "metadata": {},
   "outputs": [
    {
     "name": "stdout",
     "output_type": "stream",
     "text": [
      "User_ID\n",
      "~~~~~~~~~~~~~~~~~~~~~~~~~~~~~~\n",
      "1001680    0.186522\n",
      "1004277    0.177978\n",
      "1001941    0.163253\n",
      "1001181    0.156708\n",
      "1000889    0.149618\n",
      "             ...   \n",
      "1002690    0.001273\n",
      "1002111    0.001273\n",
      "1005810    0.001273\n",
      "1004991    0.001273\n",
      "1000708    0.001091\n",
      "Name: User_ID, Length: 5891, dtype: float64\n",
      "--------------------------------------------------\n",
      "\n",
      "Product_ID\n",
      "~~~~~~~~~~~~~~~~~~~~~~~~~~~~~~\n",
      "P00265242    0.341776\n",
      "P00025442    0.293600\n",
      "P00110742    0.293055\n",
      "P00112142    0.283965\n",
      "P00057642    0.267240\n",
      "               ...   \n",
      "P00314842    0.000182\n",
      "P00298842    0.000182\n",
      "P00231642    0.000182\n",
      "P00204442    0.000182\n",
      "P00066342    0.000182\n",
      "Name: Product_ID, Length: 3631, dtype: float64\n",
      "--------------------------------------------------\n",
      "\n",
      "Gender\n",
      "~~~~~~~~~~~~~~~~~~~~~~~~~~~~~~\n",
      "M    75.310507\n",
      "F    24.689493\n",
      "Name: Gender, dtype: float64\n",
      "--------------------------------------------------\n",
      "\n",
      "Age\n",
      "~~~~~~~~~~~~~~~~~~~~~~~~~~~~~~\n",
      "26-35    39.919974\n",
      "36-45    19.999891\n",
      "18-25    18.117760\n",
      "46-50     8.308246\n",
      "51-55     6.999316\n",
      "55+       3.909335\n",
      "0-17      2.745479\n",
      "Name: Age, dtype: float64\n",
      "--------------------------------------------------\n",
      "\n",
      "Occupation\n",
      "~~~~~~~~~~~~~~~~~~~~~~~~~~~~~~\n",
      "4     13.145284\n",
      "0     12.659889\n",
      "7     10.750125\n",
      "1      8.621843\n",
      "17     7.279645\n",
      "20     6.101427\n",
      "12     5.668208\n",
      "14     4.964659\n",
      "2      4.833584\n",
      "16     4.612339\n",
      "6      3.700452\n",
      "3      3.208694\n",
      "10     2.350618\n",
      "5      2.213726\n",
      "15     2.211545\n",
      "11     2.106285\n",
      "19     1.538173\n",
      "13     1.404917\n",
      "18     1.203851\n",
      "9      1.143677\n",
      "8      0.281056\n",
      "Name: Occupation, dtype: float64\n",
      "--------------------------------------------------\n",
      "\n",
      "City_Category\n",
      "~~~~~~~~~~~~~~~~~~~~~~~~~~~~~~\n",
      "B    42.026259\n",
      "C    31.118880\n",
      "A    26.854862\n",
      "Name: City_Category, dtype: float64\n",
      "--------------------------------------------------\n",
      "\n",
      "Stay_In_Current_City_Years\n",
      "~~~~~~~~~~~~~~~~~~~~~~~~~~~~~~\n",
      "1    35.235825\n",
      "2    18.513711\n",
      "3    17.322404\n",
      "4    15.402823\n",
      "0    13.525237\n",
      "Name: Stay_In_Current_City_Years, dtype: float64\n",
      "--------------------------------------------------\n",
      "\n",
      "Marital_Status\n",
      "~~~~~~~~~~~~~~~~~~~~~~~~~~~~~~\n",
      "0    59.034701\n",
      "1    40.965299\n",
      "Name: Marital_Status, dtype: float64\n",
      "--------------------------------------------------\n",
      "\n",
      "Product_Category\n",
      "~~~~~~~~~~~~~~~~~~~~~~~~~~~~~~\n",
      "5     27.438971\n",
      "1     25.520118\n",
      "8     20.711076\n",
      "11     4.415272\n",
      "2      4.338373\n",
      "6      3.720631\n",
      "3      3.674637\n",
      "4      2.136645\n",
      "16     1.786688\n",
      "15     1.143495\n",
      "13     1.008784\n",
      "10     0.931703\n",
      "12     0.717548\n",
      "7      0.676462\n",
      "18     0.568112\n",
      "20     0.463579\n",
      "19     0.291419\n",
      "14     0.276875\n",
      "17     0.105078\n",
      "9      0.074536\n",
      "Name: Product_Category, dtype: float64\n",
      "--------------------------------------------------\n",
      "\n",
      "Purchase\n",
      "~~~~~~~~~~~~~~~~~~~~~~~~~~~~~~\n",
      "7011     0.034723\n",
      "7193     0.034178\n",
      "6855     0.033996\n",
      "6891     0.033450\n",
      "7012     0.033269\n",
      "           ...   \n",
      "23491    0.000182\n",
      "18345    0.000182\n",
      "3372     0.000182\n",
      "855      0.000182\n",
      "21489    0.000182\n",
      "Name: Purchase, Length: 18105, dtype: float64\n",
      "--------------------------------------------------\n",
      "\n",
      "Marital_Status_category\n",
      "~~~~~~~~~~~~~~~~~~~~~~~~~~~~~~\n",
      "Unmarried    59.034701\n",
      "Married      40.965299\n",
      "Name: Marital_Status_category, dtype: float64\n",
      "--------------------------------------------------\n",
      "\n",
      "Married_Gender\n",
      "~~~~~~~~~~~~~~~~~~~~~~~~~~~~~~\n",
      "(M, 0)    44.705382\n",
      "(M, 1)    30.605125\n",
      "(F, 0)    14.329319\n",
      "(F, 1)    10.360174\n",
      "Name: Married_Gender, dtype: float64\n",
      "--------------------------------------------------\n",
      "\n"
     ]
    }
   ],
   "source": [
    "for i in range(df.shape[1]):\n",
    "    print(df.columns[i])\n",
    "    print(\"~\"*30)\n",
    "    print(df.iloc[:,i].value_counts(normalize = True)*100)\n",
    "    print(\"-\"*50)\n",
    "    print()"
   ]
  },
  {
   "cell_type": "code",
   "execution_count": null,
   "id": "c90615a9",
   "metadata": {},
   "outputs": [],
   "source": []
  },
  {
   "cell_type": "code",
   "execution_count": null,
   "id": "90aad63a",
   "metadata": {},
   "outputs": [],
   "source": []
  },
  {
   "cell_type": "code",
   "execution_count": null,
   "id": "e930bc4f",
   "metadata": {},
   "outputs": [],
   "source": []
  },
  {
   "cell_type": "code",
   "execution_count": 37,
   "id": "198c7ab1",
   "metadata": {},
   "outputs": [
    {
     "name": "stdout",
     "output_type": "stream",
     "text": [
      "User_ID - 5891\n",
      "~~~~~~~~~~~~~~~~~~~~\n",
      "[1000001 1000002 1000003 ... 1004113 1005391 1001529]\n",
      "----------------------------------------------------------------------------------------------------\n",
      "\n",
      "Product_ID - 3631\n",
      "~~~~~~~~~~~~~~~~~~~~\n",
      "['P00069042' 'P00248942' 'P00087842' ... 'P00370293' 'P00371644'\n",
      " 'P00370853']\n",
      "----------------------------------------------------------------------------------------------------\n",
      "\n",
      "Gender - 2\n",
      "~~~~~~~~~~~~~~~~~~~~\n",
      "['F', 'M']\n",
      "Categories (2, object): ['F', 'M']\n",
      "----------------------------------------------------------------------------------------------------\n",
      "\n",
      "Age - 7\n",
      "~~~~~~~~~~~~~~~~~~~~\n",
      "['0-17', '55+', '26-35', '46-50', '51-55', '36-45', '18-25']\n",
      "Categories (7, object): ['0-17', '18-25', '26-35', '36-45', '46-50', '51-55', '55+']\n",
      "----------------------------------------------------------------------------------------------------\n",
      "\n",
      "Occupation - 21\n",
      "~~~~~~~~~~~~~~~~~~~~\n",
      "[10 16 15  7 20  9  1 12 17  0  3  4 11  8 19  2 18  5 14 13  6]\n",
      "----------------------------------------------------------------------------------------------------\n",
      "\n",
      "City_Category - 3\n",
      "~~~~~~~~~~~~~~~~~~~~\n",
      "['A', 'C', 'B']\n",
      "Categories (3, object): ['A', 'B', 'C']\n",
      "----------------------------------------------------------------------------------------------------\n",
      "\n",
      "Stay_In_Current_City_Years - 5\n",
      "~~~~~~~~~~~~~~~~~~~~\n",
      "['2', 4, '3', '1', '0']\n",
      "Categories (5, object): [4, '0', '1', '2', '3']\n",
      "----------------------------------------------------------------------------------------------------\n",
      "\n",
      "Marital_Status - 2\n",
      "~~~~~~~~~~~~~~~~~~~~\n",
      "[0 1]\n",
      "----------------------------------------------------------------------------------------------------\n",
      "\n",
      "Product_Category - 20\n",
      "~~~~~~~~~~~~~~~~~~~~\n",
      "[3, 1, 12, 8, 5, ..., 10, 17, 9, 20, 19]\n",
      "Length: 20\n",
      "Categories (20, int64): [1, 2, 3, 4, ..., 17, 18, 19, 20]\n",
      "----------------------------------------------------------------------------------------------------\n",
      "\n",
      "Purchase - 18105\n",
      "~~~~~~~~~~~~~~~~~~~~\n",
      "[ 8370 15200  1422 ...   135   123   613]\n",
      "----------------------------------------------------------------------------------------------------\n",
      "\n",
      "Marital_Status_category - 2\n",
      "~~~~~~~~~~~~~~~~~~~~\n",
      "['Unmarried' 'Married']\n",
      "----------------------------------------------------------------------------------------------------\n",
      "\n",
      "Married_Gender - 4\n",
      "~~~~~~~~~~~~~~~~~~~~\n",
      "[('F', 0) ('M', 0) ('M', 1) ('F', 1)]\n",
      "----------------------------------------------------------------------------------------------------\n",
      "\n"
     ]
    }
   ],
   "source": [
    "for i in range(df.shape[1]):\n",
    "    print(df.columns[i], \"-\", df[df.columns[i]].nunique())\n",
    "    print(\"~\"*20)\n",
    "    print(df.iloc[:,i].unique())\n",
    "    print(\"-\"*100)\n",
    "    print()"
   ]
  },
  {
   "cell_type": "markdown",
   "id": "075fcbf9",
   "metadata": {},
   "source": [
    "From above nunique function we get to know about most of the data seems to be Categorical\n",
    "User_ID\tand Product_ID and Purchase are the ones which can be used for differntiating\n",
    "Gender,\tAge, Occupation, City_Category,\tStay_In_Current_City_Years,\tMarital_Status and Product_Category are categorical. \n",
    "Most categories are of Occupation == Total 21 and Product_Categories that is 21 different product . "
   ]
  },
  {
   "cell_type": "markdown",
   "id": "d766bfe5",
   "metadata": {},
   "source": [
    "# Purchased by Male i. e. Spent by male in Black Friday Sale"
   ]
  },
  {
   "cell_type": "code",
   "execution_count": 38,
   "id": "79b15a3e",
   "metadata": {},
   "outputs": [
    {
     "data": {
      "text/plain": [
       "4          7969\n",
       "5         15227\n",
       "6         19215\n",
       "7         15854\n",
       "8         15686\n",
       "          ...  \n",
       "550057       61\n",
       "550058      121\n",
       "550060      494\n",
       "550062      473\n",
       "550063      368\n",
       "Name: Purchase, Length: 414259, dtype: int64"
      ]
     },
     "execution_count": 38,
     "metadata": {},
     "output_type": "execute_result"
    }
   ],
   "source": [
    "df_Male = df[df[\"Gender\"] == \"M\"][\"Purchase\"]\n",
    "df_Male"
   ]
  },
  {
   "cell_type": "code",
   "execution_count": 39,
   "id": "4eb880ca",
   "metadata": {},
   "outputs": [
    {
     "data": {
      "text/plain": [
       "9437.526040472265"
      ]
     },
     "execution_count": 39,
     "metadata": {},
     "output_type": "execute_result"
    }
   ],
   "source": [
    "df_Male.mean()"
   ]
  },
  {
   "cell_type": "code",
   "execution_count": 40,
   "id": "c58dd8b9",
   "metadata": {},
   "outputs": [],
   "source": [
    "#Purchased byFemale i. e. Spent by female in Black Friday Sale\n",
    "#Sample size taken in 1000"
   ]
  },
  {
   "cell_type": "code",
   "execution_count": 41,
   "id": "1e06fc72",
   "metadata": {},
   "outputs": [
    {
     "data": {
      "text/plain": [
       "(135809,)"
      ]
     },
     "execution_count": 41,
     "metadata": {},
     "output_type": "execute_result"
    }
   ],
   "source": [
    "df_Female = df[df[\"Gender\"] == \"F\"][\"Purchase\"]\n",
    "df_Female.shape"
   ]
  },
  {
   "cell_type": "code",
   "execution_count": 42,
   "id": "ea868b14",
   "metadata": {},
   "outputs": [
    {
     "data": {
      "text/plain": [
       "8734.565765155476"
      ]
     },
     "execution_count": 42,
     "metadata": {},
     "output_type": "execute_result"
    }
   ],
   "source": [
    "df_Female.mean()"
   ]
  },
  {
   "cell_type": "code",
   "execution_count": 43,
   "id": "8b4b9025",
   "metadata": {},
   "outputs": [
    {
     "data": {
      "text/plain": [
       "<AxesSubplot:xlabel='Gender', ylabel='count'>"
      ]
     },
     "execution_count": 43,
     "metadata": {},
     "output_type": "execute_result"
    },
    {
     "data": {
      "image/png": "[encoded data removed]",
      "text/plain": [
       "<Figure size 432x288 with 1 Axes>"
      ]
     },
     "metadata": {
      "needs_background": "light"
     },
     "output_type": "display_data"
    }
   ],
   "source": [
    "sns.countplot(df[\"Gender\"])"
   ]
  },
  {
   "cell_type": "markdown",
   "id": "6597109e",
   "metadata": {},
   "source": [
    "# Answering questions (50 Points)"
   ]
  },
  {
   "cell_type": "markdown",
   "id": "14866431",
   "metadata": {},
   "source": [
    "# Are women spending more money per transaction than men? Why or Why not? (10 Points)"
   ]
  },
  {
   "cell_type": "markdown",
   "id": "26fa4768",
   "metadata": {},
   "source": [
    "#SO women are spending less money as compared to male per transaction\n",
    "As female_mean = 8734 approximately\n",
    "and male_mean = 9437\n",
    "So Per transaction expense of male is higher than female.\n",
    "We can infer from the dataset that product for female also have been purchased but paid by or purchased by their spouses for them That can be one reason.\n",
    "Or As I have recommended that new products, discounts and offers to be given for female customers to increase their spent in the sale."
   ]
  },
  {
   "cell_type": "markdown",
   "id": "95c468be",
   "metadata": {},
   "source": [
    "# Confidence intervals and distribution of the mean of the expenses by female and male customers (10 Points)"
   ]
  },
  {
   "cell_type": "code",
   "execution_count": 44,
   "id": "11d25e9e",
   "metadata": {},
   "outputs": [],
   "source": [
    "bootstrapped_male_survey = []\n",
    "for reps in range(df.shape[0]):\n",
    "    bootstrapped_samples = np.random.choice(df_Male, size = 5000)\n",
    "    bootstrapped_mean = np.mean(bootstrapped_samples)\n",
    "    bootstrapped_male_survey.append(bootstrapped_mean)"
   ]
  },
  {
   "cell_type": "code",
   "execution_count": 45,
   "id": "7f91b806",
   "metadata": {
    "scrolled": true
   },
   "outputs": [
    {
     "data": {
      "text/plain": [
       "<AxesSubplot:ylabel='Count'>"
      ]
     },
     "execution_count": 45,
     "metadata": {},
     "output_type": "execute_result"
    },
    {
     "data": {
      "image/png": "[encoded data removed]",
      "text/plain": [
       "<Figure size 432x288 with 1 Axes>"
      ]
     },
     "metadata": {
      "needs_background": "light"
     },
     "output_type": "display_data"
    }
   ],
   "source": [
    "sns.histplot(bootstrapped_male_survey)"
   ]
  },
  {
   "cell_type": "markdown",
   "id": "d84acd1f",
   "metadata": {},
   "source": [
    "#As we can see after taking sample size = 5000 for men.\n",
    "This histplot can be seen the perfect bell curve showing the Gaussion Distribution.\n",
    "Below we have found out all the Confidence Interval.\n"
   ]
  },
  {
   "cell_type": "markdown",
   "id": "9d3e5007",
   "metadata": {},
   "source": [
    "# CI of male purchases= 90%"
   ]
  },
  {
   "cell_type": "code",
   "execution_count": 46,
   "id": "7a6b7e78",
   "metadata": {},
   "outputs": [
    {
     "data": {
      "text/plain": [
       "array([9319.33822, 9556.20417])"
      ]
     },
     "execution_count": 46,
     "metadata": {},
     "output_type": "execute_result"
    }
   ],
   "source": [
    "np.percentile(bootstrapped_male_survey, [5,95]) # 90% Confidence Interval"
   ]
  },
  {
   "cell_type": "markdown",
   "id": "7ba6f7d2",
   "metadata": {},
   "source": [
    "# CI of male purchases= 95%"
   ]
  },
  {
   "cell_type": "code",
   "execution_count": 47,
   "id": "43f3d846",
   "metadata": {},
   "outputs": [
    {
     "data": {
      "text/plain": [
       "array([9296.590285, 9579.11493 ])"
      ]
     },
     "execution_count": 47,
     "metadata": {},
     "output_type": "execute_result"
    }
   ],
   "source": [
    "np.percentile(bootstrapped_male_survey, [2.5,97.5]) # 95% Confidence Interval"
   ]
  },
  {
   "cell_type": "markdown",
   "id": "6a060d32",
   "metadata": {},
   "source": [
    "# CI of male purchases= 99%"
   ]
  },
  {
   "cell_type": "code",
   "execution_count": 48,
   "id": "59177945",
   "metadata": {},
   "outputs": [
    {
     "data": {
      "text/plain": [
       "array([9252.981679, 9623.618516])"
      ]
     },
     "execution_count": 48,
     "metadata": {},
     "output_type": "execute_result"
    }
   ],
   "source": [
    "np.percentile(bootstrapped_male_survey, [0.5,99.5]) # 99% Confidence Interval"
   ]
  },
  {
   "cell_type": "markdown",
   "id": "4a575c79",
   "metadata": {},
   "source": []
  },
  {
   "cell_type": "code",
   "execution_count": 49,
   "id": "9a8d3104",
   "metadata": {},
   "outputs": [],
   "source": [
    "bootstrapped_female_survey = []\n",
    "for reps in range(df.shape[0]):\n",
    "    bootstrapped_samples = np.random.choice(df_Female, size = 1000)\n",
    "    bootstrapped_mean = np.mean(bootstrapped_samples)\n",
    "    bootstrapped_female_survey.append(bootstrapped_mean)"
   ]
  },
  {
   "cell_type": "code",
   "execution_count": 50,
   "id": "978f472c",
   "metadata": {},
   "outputs": [
    {
     "data": {
      "text/plain": [
       "<AxesSubplot:ylabel='Count'>"
      ]
     },
     "execution_count": 50,
     "metadata": {},
     "output_type": "execute_result"
    },
    {
     "data": {
      "image/png": "[encoded data removed]",
      "text/plain": [
       "<Figure size 432x288 with 1 Axes>"
      ]
     },
     "metadata": {
      "needs_background": "light"
     },
     "output_type": "display_data"
    }
   ],
   "source": [
    "sns.histplot(bootstrapped_female_survey)"
   ]
  },
  {
   "cell_type": "markdown",
   "id": "41a5c93d",
   "metadata": {},
   "source": [
    "# CI of female purchases= 90%"
   ]
  },
  {
   "cell_type": "code",
   "execution_count": 51,
   "id": "ccff9579",
   "metadata": {},
   "outputs": [
    {
     "data": {
      "text/plain": [
       "array([8487.3971, 8983.675 ])"
      ]
     },
     "execution_count": 51,
     "metadata": {},
     "output_type": "execute_result"
    }
   ],
   "source": [
    "np.percentile(bootstrapped_female_survey, [5,95]) # 90% Confidence Interval"
   ]
  },
  {
   "cell_type": "markdown",
   "id": "620923ba",
   "metadata": {},
   "source": [
    "# CI of female purchases= 95%"
   ]
  },
  {
   "cell_type": "code",
   "execution_count": 52,
   "id": "1e04b6fb",
   "metadata": {},
   "outputs": [
    {
     "data": {
      "text/plain": [
       "array([8440.277375, 9031.86465 ])"
      ]
     },
     "execution_count": 52,
     "metadata": {},
     "output_type": "execute_result"
    }
   ],
   "source": [
    "np.percentile(bootstrapped_female_survey, [2.5,97.5]) # 95% Confidence Interval"
   ]
  },
  {
   "cell_type": "markdown",
   "id": "5660938b",
   "metadata": {},
   "source": [
    "# CI of female purchases= 99%"
   ]
  },
  {
   "cell_type": "code",
   "execution_count": 53,
   "id": "14ca3ef7",
   "metadata": {},
   "outputs": [
    {
     "data": {
      "text/plain": [
       "array([8348.07301 , 9126.857955])"
      ]
     },
     "execution_count": 53,
     "metadata": {},
     "output_type": "execute_result"
    }
   ],
   "source": [
    "np.percentile(bootstrapped_female_survey, [0.5,99.5]) # 99% Confidence Interval"
   ]
  },
  {
   "cell_type": "markdown",
   "id": "644ff515",
   "metadata": {},
   "source": [
    "# Purchased by Married i. e. Spent by married in Black Friday Sale"
   ]
  },
  {
   "cell_type": "code",
   "execution_count": 54,
   "id": "a0f281eb",
   "metadata": {},
   "outputs": [
    {
     "data": {
      "text/plain": [
       "6         19215\n",
       "7         15854\n",
       "8         15686\n",
       "9          7871\n",
       "10         5254\n",
       "          ...  \n",
       "550060      494\n",
       "550061      599\n",
       "550063      368\n",
       "550065      137\n",
       "550067      490\n",
       "Name: Purchase, Length: 225337, dtype: int64"
      ]
     },
     "execution_count": 54,
     "metadata": {},
     "output_type": "execute_result"
    }
   ],
   "source": [
    "df_Married = df[df[\"Marital_Status_category\"] == \"Married\"][\"Purchase\"]\n",
    "df_Married"
   ]
  },
  {
   "cell_type": "code",
   "execution_count": 55,
   "id": "8bb14e2a",
   "metadata": {},
   "outputs": [
    {
     "data": {
      "text/plain": [
       "0          8370\n",
       "1         15200\n",
       "2          1422\n",
       "3          1057\n",
       "4          7969\n",
       "          ...  \n",
       "550056      254\n",
       "550059       48\n",
       "550062      473\n",
       "550064      371\n",
       "550066      365\n",
       "Name: Purchase, Length: 324731, dtype: int64"
      ]
     },
     "execution_count": 55,
     "metadata": {},
     "output_type": "execute_result"
    }
   ],
   "source": [
    "df_Unmarried = df[df[\"Marital_Status_category\"] == \"Unmarried\"][\"Purchase\"]\n",
    "df_Unmarried"
   ]
  },
  {
   "cell_type": "markdown",
   "id": "a8522a2d",
   "metadata": {},
   "source": [
    "#We can infer that the data given to us having more unmarried Users than married users. The ratio is around ^):$) of Unmarried and Married"
   ]
  },
  {
   "cell_type": "code",
   "execution_count": 56,
   "id": "dacf1084",
   "metadata": {},
   "outputs": [
    {
     "data": {
      "text/plain": [
       "9261.174574082374"
      ]
     },
     "execution_count": 56,
     "metadata": {},
     "output_type": "execute_result"
    }
   ],
   "source": [
    "df_Married.mean()"
   ]
  },
  {
   "cell_type": "code",
   "execution_count": 57,
   "id": "fe2bea58",
   "metadata": {},
   "outputs": [
    {
     "data": {
      "text/plain": [
       "9265.907618921507"
      ]
     },
     "execution_count": 57,
     "metadata": {},
     "output_type": "execute_result"
    }
   ],
   "source": [
    "df_Unmarried.mean()"
   ]
  },
  {
   "cell_type": "markdown",
   "id": "6275a459",
   "metadata": {},
   "source": [
    "If we check mean for both Married and Unmarried , it is almost same i.e 9261 for married and 9265 for Unmarried"
   ]
  },
  {
   "cell_type": "code",
   "execution_count": 58,
   "id": "bbd8f779",
   "metadata": {},
   "outputs": [],
   "source": [
    "bootstrapped_married_survey = []\n",
    "for reps in range(df.shape[0]):\n",
    "    bootstrapped_samples = np.random.choice(df_Married, size = 5000)\n",
    "    bootstrapped_mean = np.mean(bootstrapped_samples)\n",
    "    bootstrapped_married_survey.append(bootstrapped_mean)"
   ]
  },
  {
   "cell_type": "code",
   "execution_count": 59,
   "id": "279380db",
   "metadata": {},
   "outputs": [
    {
     "data": {
      "text/plain": [
       "<AxesSubplot:ylabel='Count'>"
      ]
     },
     "execution_count": 59,
     "metadata": {},
     "output_type": "execute_result"
    },
    {
     "data": {
      "image/png": "[encoded data removed]",
      "text/plain": [
       "<Figure size 432x288 with 1 Axes>"
      ]
     },
     "metadata": {
      "needs_background": "light"
     },
     "output_type": "display_data"
    }
   ],
   "source": [
    "sns.histplot(bootstrapped_married_survey)"
   ]
  },
  {
   "cell_type": "markdown",
   "id": "18bf6037",
   "metadata": {},
   "source": [
    "# CI of purchases of Married population= 90%"
   ]
  },
  {
   "cell_type": "code",
   "execution_count": 60,
   "id": "1dcc7faa",
   "metadata": {},
   "outputs": [
    {
     "data": {
      "text/plain": [
       "array([9144.52394, 9378.4216 ])"
      ]
     },
     "execution_count": 60,
     "metadata": {},
     "output_type": "execute_result"
    }
   ],
   "source": [
    "np.percentile(bootstrapped_married_survey, [5,95]) # 90% Confidence Interval"
   ]
  },
  {
   "cell_type": "markdown",
   "id": "0b0d89d6",
   "metadata": {},
   "source": [
    "# CI of purchases of Married population= 95%"
   ]
  },
  {
   "cell_type": "code",
   "execution_count": 61,
   "id": "f1e5b966",
   "metadata": {},
   "outputs": [
    {
     "data": {
      "text/plain": [
       "array([9122.345425, 9400.59046 ])"
      ]
     },
     "execution_count": 61,
     "metadata": {},
     "output_type": "execute_result"
    }
   ],
   "source": [
    "np.percentile(bootstrapped_married_survey, [2.5,97.5]) # 95% Confidence Interval"
   ]
  },
  {
   "cell_type": "markdown",
   "id": "04203e49",
   "metadata": {},
   "source": [
    "# CI of purchases of Married population= 99%"
   ]
  },
  {
   "cell_type": "code",
   "execution_count": 62,
   "id": "d3928731",
   "metadata": {},
   "outputs": [
    {
     "data": {
      "text/plain": [
       "array([9078.906813, 9444.9096  ])"
      ]
     },
     "execution_count": 62,
     "metadata": {},
     "output_type": "execute_result"
    }
   ],
   "source": [
    "np.percentile(bootstrapped_married_survey, [0.5,99.5]) # 99% Confidence Interval"
   ]
  },
  {
   "cell_type": "code",
   "execution_count": 63,
   "id": "37f1a547",
   "metadata": {},
   "outputs": [],
   "source": [
    "bootstrapped_unmarried_survey = []\n",
    "for reps in range(df.shape[0]):\n",
    "    bootstrapped_samples = np.random.choice(df_Unmarried, size = 5000)\n",
    "    bootstrapped_mean = np.mean(bootstrapped_samples)\n",
    "    bootstrapped_unmarried_survey.append(bootstrapped_mean)"
   ]
  },
  {
   "cell_type": "code",
   "execution_count": 64,
   "id": "71dc8409",
   "metadata": {},
   "outputs": [
    {
     "data": {
      "text/plain": [
       "<AxesSubplot:ylabel='Count'>"
      ]
     },
     "execution_count": 64,
     "metadata": {},
     "output_type": "execute_result"
    },
    {
     "data": {
      "image/png": "[encoded data removed]",
      "text/plain": [
       "<Figure size 432x288 with 1 Axes>"
      ]
     },
     "metadata": {
      "needs_background": "light"
     },
     "output_type": "display_data"
    }
   ],
   "source": [
    "sns.histplot(bootstrapped_unmarried_survey)"
   ]
  },
  {
   "cell_type": "markdown",
   "id": "93a3899d",
   "metadata": {},
   "source": [
    "From  here too we infer that confidence interval for 90%, 95%, 99% are overlapping each other. "
   ]
  },
  {
   "cell_type": "code",
   "execution_count": 65,
   "id": "827512d1",
   "metadata": {},
   "outputs": [
    {
     "data": {
      "text/plain": [
       "array([9148.83121, 9382.9992 ])"
      ]
     },
     "execution_count": 65,
     "metadata": {},
     "output_type": "execute_result"
    }
   ],
   "source": [
    "np.percentile(bootstrapped_unmarried_survey, [5,95]) # 90% Confidence Interval"
   ]
  },
  {
   "cell_type": "code",
   "execution_count": 66,
   "id": "c164d8d6",
   "metadata": {},
   "outputs": [
    {
     "data": {
      "text/plain": [
       "array([9126.51328, 9405.46064])"
      ]
     },
     "execution_count": 66,
     "metadata": {},
     "output_type": "execute_result"
    }
   ],
   "source": [
    "np.percentile(bootstrapped_unmarried_survey, [2.5,97.5]) # 95% Confidence Interval"
   ]
  },
  {
   "cell_type": "code",
   "execution_count": 67,
   "id": "44867b52",
   "metadata": {},
   "outputs": [
    {
     "data": {
      "text/plain": [
       "array([9082.954802, 9449.336198])"
      ]
     },
     "execution_count": 67,
     "metadata": {},
     "output_type": "execute_result"
    }
   ],
   "source": [
    "np.percentile(bootstrapped_unmarried_survey, [0.5,99.5]) # 99% Confidence Interval"
   ]
  },
  {
   "cell_type": "code",
   "execution_count": null,
   "id": "43af6b29",
   "metadata": {},
   "outputs": [],
   "source": []
  },
  {
   "cell_type": "markdown",
   "id": "f22cef58",
   "metadata": {},
   "source": [
    "# Purchased by Different Age Groups such as : 0-17, 18-25, 26-35, 36-50, 51+ years. in Black Friday Sale\n"
   ]
  },
  {
   "cell_type": "code",
   "execution_count": 68,
   "id": "dd9ffb4e",
   "metadata": {},
   "outputs": [
    {
     "data": {
      "text/plain": [
       "26-35    219587\n",
       "36-45    110013\n",
       "18-25     99660\n",
       "46-50     45701\n",
       "51-55     38501\n",
       "55+       21504\n",
       "0-17      15102\n",
       "Name: Age, dtype: int64"
      ]
     },
     "execution_count": 68,
     "metadata": {},
     "output_type": "execute_result"
    }
   ],
   "source": [
    "df[\"Age\"].value_counts()"
   ]
  },
  {
   "cell_type": "code",
   "execution_count": 69,
   "id": "3ff58e74",
   "metadata": {},
   "outputs": [],
   "source": [
    "df_Age_0_17 = df[df[\"Age\"] == \"0-17\"][\"Purchase\"]"
   ]
  },
  {
   "cell_type": "code",
   "execution_count": 70,
   "id": "eb4b345f",
   "metadata": {},
   "outputs": [],
   "source": [
    "bootstrapped_0_17_survey = []\n",
    "for reps in range(df.shape[0]):\n",
    "    bootstrapped_samples = np.random.choice(df_Age_0_17, size = 5000)\n",
    "    bootstrapped_mean = np.mean(bootstrapped_samples)\n",
    "    bootstrapped_0_17_survey.append(bootstrapped_mean)"
   ]
  },
  {
   "cell_type": "code",
   "execution_count": 71,
   "id": "e9a3d9fb",
   "metadata": {},
   "outputs": [
    {
     "data": {
      "text/plain": [
       "<AxesSubplot:ylabel='Count'>"
      ]
     },
     "execution_count": 71,
     "metadata": {},
     "output_type": "execute_result"
    },
    {
     "data": {
      "image/png": "[encoded data removed]",
      "text/plain": [
       "<Figure size 432x288 with 1 Axes>"
      ]
     },
     "metadata": {
      "needs_background": "light"
     },
     "output_type": "display_data"
    }
   ],
   "source": [
    "sns.histplot(bootstrapped_0_17_survey)"
   ]
  },
  {
   "cell_type": "markdown",
   "id": "1ed7bc97",
   "metadata": {},
   "source": [
    "# 90% Confidence Interval"
   ]
  },
  {
   "cell_type": "code",
   "execution_count": 72,
   "id": "f6f68400",
   "metadata": {},
   "outputs": [
    {
     "data": {
      "text/plain": [
       "array([8814.68668, 9052.91498])"
      ]
     },
     "execution_count": 72,
     "metadata": {},
     "output_type": "execute_result"
    }
   ],
   "source": [
    "np.percentile(bootstrapped_0_17_survey, [5,95])"
   ]
  },
  {
   "cell_type": "markdown",
   "id": "a3ce459b",
   "metadata": {},
   "source": [
    "# 95% Confidence Interval"
   ]
  },
  {
   "cell_type": "code",
   "execution_count": 73,
   "id": "044ca986",
   "metadata": {},
   "outputs": [
    {
     "data": {
      "text/plain": [
       "array([8792.026605, 9076.053595])"
      ]
     },
     "execution_count": 73,
     "metadata": {},
     "output_type": "execute_result"
    }
   ],
   "source": [
    "np.percentile(bootstrapped_0_17_survey, [2.5,97.5])"
   ]
  },
  {
   "cell_type": "markdown",
   "id": "bac423d1",
   "metadata": {},
   "source": [
    "# 99% Confidence Interval"
   ]
  },
  {
   "cell_type": "code",
   "execution_count": 74,
   "id": "46dbbdf4",
   "metadata": {},
   "outputs": [
    {
     "data": {
      "text/plain": [
       "array([8748.302425, 9120.362591])"
      ]
     },
     "execution_count": 74,
     "metadata": {},
     "output_type": "execute_result"
    }
   ],
   "source": [
    "np.percentile(bootstrapped_0_17_survey, [0.5,99.5])"
   ]
  },
  {
   "cell_type": "code",
   "execution_count": 75,
   "id": "0773b62c",
   "metadata": {},
   "outputs": [],
   "source": [
    "df_Age_18_25 = df[df[\"Age\"] == \"18-25\"][\"Purchase\"]"
   ]
  },
  {
   "cell_type": "code",
   "execution_count": 76,
   "id": "ca197106",
   "metadata": {},
   "outputs": [],
   "source": [
    "bootstrapped_18_25_survey = []\n",
    "for reps in range(df.shape[0]):\n",
    "    bootstrapped_samples = np.random.choice(df_Age_18_25, size = 5000)\n",
    "    bootstrapped_mean = np.mean(bootstrapped_samples)\n",
    "    bootstrapped_18_25_survey.append(bootstrapped_mean)"
   ]
  },
  {
   "cell_type": "code",
   "execution_count": 77,
   "id": "68dfc2c6",
   "metadata": {},
   "outputs": [
    {
     "data": {
      "text/plain": [
       "<AxesSubplot:ylabel='Count'>"
      ]
     },
     "execution_count": 77,
     "metadata": {},
     "output_type": "execute_result"
    },
    {
     "data": {
      "image/png": "[encoded data removed]",
      "text/plain": [
       "<Figure size 432x288 with 1 Axes>"
      ]
     },
     "metadata": {
      "needs_background": "light"
     },
     "output_type": "display_data"
    }
   ],
   "source": [
    "sns.histplot(bootstrapped_18_25_survey)"
   ]
  },
  {
   "cell_type": "markdown",
   "id": "6fa4acbd",
   "metadata": {},
   "source": [
    "# 90% Confidence Interval"
   ]
  },
  {
   "cell_type": "code",
   "execution_count": 78,
   "id": "a557c941",
   "metadata": {},
   "outputs": [
    {
     "data": {
      "text/plain": [
       "array([9052.85673, 9287.15396])"
      ]
     },
     "execution_count": 78,
     "metadata": {},
     "output_type": "execute_result"
    }
   ],
   "source": [
    "np.percentile(bootstrapped_18_25_survey, [5,95])"
   ]
  },
  {
   "cell_type": "markdown",
   "id": "279e0bfe",
   "metadata": {},
   "source": [
    "# 95% Confidence Interval"
   ]
  },
  {
   "cell_type": "code",
   "execution_count": 79,
   "id": "00115232",
   "metadata": {},
   "outputs": [
    {
     "data": {
      "text/plain": [
       "array([9030.478955, 9309.438565])"
      ]
     },
     "execution_count": 79,
     "metadata": {},
     "output_type": "execute_result"
    }
   ],
   "source": [
    "np.percentile(bootstrapped_18_25_survey, [2.5,97.5])"
   ]
  },
  {
   "cell_type": "markdown",
   "id": "d337ef99",
   "metadata": {},
   "source": [
    "# 99% Confidence Interval"
   ]
  },
  {
   "cell_type": "code",
   "execution_count": 80,
   "id": "16b3c3d7",
   "metadata": {},
   "outputs": [
    {
     "data": {
      "text/plain": [
       "array([8987.13455 , 9353.173796])"
      ]
     },
     "execution_count": 80,
     "metadata": {},
     "output_type": "execute_result"
    }
   ],
   "source": [
    "np.percentile(bootstrapped_18_25_survey, [0.5,99.5])"
   ]
  },
  {
   "cell_type": "code",
   "execution_count": 81,
   "id": "4fc75414",
   "metadata": {},
   "outputs": [],
   "source": [
    "df_Age_26_35 = df[df[\"Age\"] == \"26-35\"][\"Purchase\"]"
   ]
  },
  {
   "cell_type": "code",
   "execution_count": 82,
   "id": "53537aea",
   "metadata": {},
   "outputs": [],
   "source": [
    "bootstrapped_26_35_survey = []\n",
    "for reps in range(df.shape[0]):\n",
    "    bootstrapped_samples = np.random.choice(df_Age_26_35, size = 5000)\n",
    "    bootstrapped_mean = np.mean(bootstrapped_samples)\n",
    "    bootstrapped_26_35_survey.append(bootstrapped_mean)"
   ]
  },
  {
   "cell_type": "code",
   "execution_count": 83,
   "id": "148968cd",
   "metadata": {},
   "outputs": [
    {
     "data": {
      "text/plain": [
       "<AxesSubplot:ylabel='Count'>"
      ]
     },
     "execution_count": 83,
     "metadata": {},
     "output_type": "execute_result"
    },
    {
     "data": {
      "image/png": "[encoded data removed]",
      "text/plain": [
       "<Figure size 432x288 with 1 Axes>"
      ]
     },
     "metadata": {
      "needs_background": "light"
     },
     "output_type": "display_data"
    }
   ],
   "source": [
    "sns.histplot(bootstrapped_26_35_survey)"
   ]
  },
  {
   "cell_type": "code",
   "execution_count": null,
   "id": "9ff0fbd9",
   "metadata": {},
   "outputs": [],
   "source": []
  },
  {
   "cell_type": "markdown",
   "id": "ecd80e5d",
   "metadata": {},
   "source": [
    "# 90% Confidence Interval"
   ]
  },
  {
   "cell_type": "code",
   "execution_count": 84,
   "id": "b5ae380a",
   "metadata": {},
   "outputs": [
    {
     "data": {
      "text/plain": [
       "array([9136.22507, 9369.11498])"
      ]
     },
     "execution_count": 84,
     "metadata": {},
     "output_type": "execute_result"
    }
   ],
   "source": [
    "np.percentile(bootstrapped_26_35_survey, [5,95])"
   ]
  },
  {
   "cell_type": "markdown",
   "id": "062fe7d9",
   "metadata": {},
   "source": [
    "# 95% Confidence Interval"
   ]
  },
  {
   "cell_type": "code",
   "execution_count": 85,
   "id": "c0c50a30",
   "metadata": {},
   "outputs": [
    {
     "data": {
      "text/plain": [
       "array([9114.02462, 9391.54073])"
      ]
     },
     "execution_count": 85,
     "metadata": {},
     "output_type": "execute_result"
    }
   ],
   "source": [
    "np.percentile(bootstrapped_26_35_survey, [2.5,97.5])"
   ]
  },
  {
   "cell_type": "markdown",
   "id": "05f19984",
   "metadata": {},
   "source": [
    "# 99% Confidence Interval"
   ]
  },
  {
   "cell_type": "code",
   "execution_count": 86,
   "id": "b17002fb",
   "metadata": {},
   "outputs": [
    {
     "data": {
      "text/plain": [
       "array([9071.162149, 9435.860297])"
      ]
     },
     "execution_count": 86,
     "metadata": {},
     "output_type": "execute_result"
    }
   ],
   "source": [
    "np.percentile(bootstrapped_26_35_survey, [0.5,99.5])"
   ]
  },
  {
   "cell_type": "code",
   "execution_count": 87,
   "id": "e15fcede",
   "metadata": {},
   "outputs": [],
   "source": [
    "df_Age_36_45 = df[df[\"Age\"] == \"36-45\"][\"Purchase\"]"
   ]
  },
  {
   "cell_type": "code",
   "execution_count": 88,
   "id": "df6c1bcd",
   "metadata": {},
   "outputs": [],
   "source": [
    "bootstrapped_36_45_survey = []\n",
    "for reps in range(df.shape[0]):\n",
    "    bootstrapped_samples = np.random.choice(df_Age_36_45, size = 5000)\n",
    "    bootstrapped_mean = np.mean(bootstrapped_samples)\n",
    "    bootstrapped_36_45_survey.append(bootstrapped_mean)"
   ]
  },
  {
   "cell_type": "code",
   "execution_count": 89,
   "id": "a7f117b7",
   "metadata": {
    "scrolled": true
   },
   "outputs": [
    {
     "data": {
      "text/plain": [
       "<AxesSubplot:ylabel='Count'>"
      ]
     },
     "execution_count": 89,
     "metadata": {},
     "output_type": "execute_result"
    },
    {
     "data": {
      "image/png": "[encoded data removed]",
      "text/plain": [
       "<Figure size 432x288 with 1 Axes>"
      ]
     },
     "metadata": {
      "needs_background": "light"
     },
     "output_type": "display_data"
    }
   ],
   "source": [
    "sns.histplot(bootstrapped_36_45_survey)"
   ]
  },
  {
   "cell_type": "markdown",
   "id": "e8bddcd8",
   "metadata": {},
   "source": [
    "# 90% Confidence Interval"
   ]
  },
  {
   "cell_type": "code",
   "execution_count": 90,
   "id": "e5027c21",
   "metadata": {},
   "outputs": [
    {
     "data": {
      "text/plain": [
       "array([9214.66765, 9448.40848])"
      ]
     },
     "execution_count": 90,
     "metadata": {},
     "output_type": "execute_result"
    }
   ],
   "source": [
    "np.percentile(bootstrapped_36_45_survey, [5,95])"
   ]
  },
  {
   "cell_type": "markdown",
   "id": "645460c8",
   "metadata": {},
   "source": [
    "# 95% Confidence Interval"
   ]
  },
  {
   "cell_type": "code",
   "execution_count": 91,
   "id": "e627713d",
   "metadata": {},
   "outputs": [
    {
     "data": {
      "text/plain": [
       "array([9192.395  , 9470.75453])"
      ]
     },
     "execution_count": 91,
     "metadata": {},
     "output_type": "execute_result"
    }
   ],
   "source": [
    "np.percentile(bootstrapped_36_45_survey, [2.5,97.5])"
   ]
  },
  {
   "cell_type": "code",
   "execution_count": 92,
   "id": "52420f56",
   "metadata": {},
   "outputs": [
    {
     "data": {
      "text/plain": [
       "array([9148.78132 , 9514.553442])"
      ]
     },
     "execution_count": 92,
     "metadata": {},
     "output_type": "execute_result"
    }
   ],
   "source": [
    "np.percentile(bootstrapped_36_45_survey, [0.5,99.5])"
   ]
  },
  {
   "cell_type": "code",
   "execution_count": 93,
   "id": "3236ce89",
   "metadata": {},
   "outputs": [],
   "source": [
    "df_Age_46_50 = df[df[\"Age\"] == \"46-50\"][\"Purchase\"]"
   ]
  },
  {
   "cell_type": "code",
   "execution_count": 94,
   "id": "1926f7de",
   "metadata": {},
   "outputs": [],
   "source": [
    "bootstrapped_46_50_survey = []\n",
    "for reps in range(df.shape[0]):\n",
    "    bootstrapped_samples = np.random.choice(df_Age_46_50, size = 5000)\n",
    "    bootstrapped_mean = np.mean(bootstrapped_samples)\n",
    "    bootstrapped_46_50_survey.append(bootstrapped_mean)"
   ]
  },
  {
   "cell_type": "code",
   "execution_count": 95,
   "id": "af32f339",
   "metadata": {},
   "outputs": [
    {
     "data": {
      "text/plain": [
       "<AxesSubplot:ylabel='Count'>"
      ]
     },
     "execution_count": 95,
     "metadata": {},
     "output_type": "execute_result"
    },
    {
     "data": {
      "image/png": "[encoded data removed]",
      "text/plain": [
       "<Figure size 432x288 with 1 Axes>"
      ]
     },
     "metadata": {
      "needs_background": "light"
     },
     "output_type": "display_data"
    }
   ],
   "source": [
    "sns.histplot(bootstrapped_46_50_survey)"
   ]
  },
  {
   "cell_type": "markdown",
   "id": "41a82aa9",
   "metadata": {},
   "source": [
    "# 90% Confidence Interval"
   ]
  },
  {
   "cell_type": "code",
   "execution_count": 96,
   "id": "153b4306",
   "metadata": {},
   "outputs": [
    {
     "data": {
      "text/plain": [
       "array([9093.45776, 9324.1965 ])"
      ]
     },
     "execution_count": 96,
     "metadata": {},
     "output_type": "execute_result"
    }
   ],
   "source": [
    "np.percentile(bootstrapped_46_50_survey, [5,95])"
   ]
  },
  {
   "cell_type": "markdown",
   "id": "4e85f392",
   "metadata": {},
   "source": [
    "# 95% Confidence Interval"
   ]
  },
  {
   "cell_type": "code",
   "execution_count": 97,
   "id": "d41e29a7",
   "metadata": {},
   "outputs": [
    {
     "data": {
      "text/plain": [
       "array([9071.26754 , 9346.245525])"
      ]
     },
     "execution_count": 97,
     "metadata": {},
     "output_type": "execute_result"
    }
   ],
   "source": [
    "np.percentile(bootstrapped_46_50_survey, [2.5,97.5])"
   ]
  },
  {
   "cell_type": "markdown",
   "id": "0134535f",
   "metadata": {},
   "source": [
    "# 99% Confidence Interval"
   ]
  },
  {
   "cell_type": "code",
   "execution_count": 98,
   "id": "51131ffa",
   "metadata": {},
   "outputs": [
    {
     "data": {
      "text/plain": [
       "array([9028.492744, 9389.185982])"
      ]
     },
     "execution_count": 98,
     "metadata": {},
     "output_type": "execute_result"
    }
   ],
   "source": [
    "np.percentile(bootstrapped_46_50_survey, [0.5,99.5])"
   ]
  },
  {
   "cell_type": "code",
   "execution_count": 99,
   "id": "992ff1ed",
   "metadata": {},
   "outputs": [],
   "source": [
    "df_Age_51_55 = df[df[\"Age\"] == \"51-55\"][\"Purchase\"]"
   ]
  },
  {
   "cell_type": "code",
   "execution_count": 100,
   "id": "87aa9087",
   "metadata": {},
   "outputs": [],
   "source": [
    "bootstrapped_51_55_survey = []\n",
    "for reps in range(df.shape[0]):\n",
    "    bootstrapped_samples = np.random.choice(df_Age_51_55, size = 5000)\n",
    "    bootstrapped_mean = np.mean(bootstrapped_samples)\n",
    "    bootstrapped_51_55_survey.append(bootstrapped_mean)"
   ]
  },
  {
   "cell_type": "code",
   "execution_count": 101,
   "id": "a6a50975",
   "metadata": {},
   "outputs": [
    {
     "data": {
      "text/plain": [
       "<AxesSubplot:ylabel='Count'>"
      ]
     },
     "execution_count": 101,
     "metadata": {},
     "output_type": "execute_result"
    },
    {
     "data": {
      "image/png": "[encoded data removed]",
      "text/plain": [
       "<Figure size 432x288 with 1 Axes>"
      ]
     },
     "metadata": {
      "needs_background": "light"
     },
     "output_type": "display_data"
    }
   ],
   "source": [
    "sns.histplot(bootstrapped_51_55_survey)"
   ]
  },
  {
   "cell_type": "markdown",
   "id": "6830e7c8",
   "metadata": {},
   "source": [
    "# 90% Confidence Interval"
   ]
  },
  {
   "cell_type": "code",
   "execution_count": 102,
   "id": "d3e4cfa5",
   "metadata": {},
   "outputs": [
    {
     "data": {
      "text/plain": [
       "array([9416.56167, 9653.45719])"
      ]
     },
     "execution_count": 102,
     "metadata": {},
     "output_type": "execute_result"
    }
   ],
   "source": [
    "np.percentile(bootstrapped_51_55_survey, [5,95])"
   ]
  },
  {
   "cell_type": "markdown",
   "id": "b959d37f",
   "metadata": {},
   "source": [
    "# 95% Confidence Interval"
   ]
  },
  {
   "cell_type": "code",
   "execution_count": 103,
   "id": "95243317",
   "metadata": {},
   "outputs": [
    {
     "data": {
      "text/plain": [
       "array([9394.323155, 9676.226725])"
      ]
     },
     "execution_count": 103,
     "metadata": {},
     "output_type": "execute_result"
    }
   ],
   "source": [
    "np.percentile(bootstrapped_51_55_survey, [2.5,97.5])"
   ]
  },
  {
   "cell_type": "markdown",
   "id": "97758daa",
   "metadata": {},
   "source": [
    "# 99% Confidence Interval"
   ]
  },
  {
   "cell_type": "code",
   "execution_count": 104,
   "id": "092456c3",
   "metadata": {},
   "outputs": [
    {
     "data": {
      "text/plain": [
       "array([9148.78132 , 9514.553442])"
      ]
     },
     "execution_count": 104,
     "metadata": {},
     "output_type": "execute_result"
    }
   ],
   "source": [
    "np.percentile(bootstrapped_36_45_survey, [0.5,99.5])"
   ]
  },
  {
   "cell_type": "code",
   "execution_count": 105,
   "id": "69948113",
   "metadata": {},
   "outputs": [
    {
     "ename": "SyntaxError",
     "evalue": "invalid syntax (2289217820.py, line 1)",
     "output_type": "error",
     "traceback": [
      "\u001b[1;36m  Input \u001b[1;32mIn [105]\u001b[1;36m\u001b[0m\n\u001b[1;33m    df_Age_55+ = df[df[\"Age\"] == \"55+\"][\"Purchase\"]\u001b[0m\n\u001b[1;37m               ^\u001b[0m\n\u001b[1;31mSyntaxError\u001b[0m\u001b[1;31m:\u001b[0m invalid syntax\n"
     ]
    }
   ],
   "source": [
    "df_Age_55+ = df[df[\"Age\"] == \"55+\"][\"Purchase\"]"
   ]
  },
  {
   "cell_type": "code",
   "execution_count": null,
   "id": "c92b763c",
   "metadata": {},
   "outputs": [],
   "source": [
    "bootstrapped_55+_survey = []\n",
    "for reps in range(df.shape[0]):\n",
    "    bootstrapped_samples = np.random.choice(df_Age_55+, size = 5000)\n",
    "    bootstrapped_mean = np.mean(bootstrapped_samples)\n",
    "    bootstrapped_55+_survey.append(bootstrapped_mean)"
   ]
  },
  {
   "cell_type": "code",
   "execution_count": null,
   "id": "42f858a1",
   "metadata": {},
   "outputs": [],
   "source": [
    "sns.histplot(bootstrapped_55+_survey)"
   ]
  },
  {
   "cell_type": "markdown",
   "id": "2ccb39a8",
   "metadata": {},
   "source": [
    "# 90% Confidence Interval"
   ]
  },
  {
   "cell_type": "code",
   "execution_count": null,
   "id": "0b15688e",
   "metadata": {},
   "outputs": [],
   "source": [
    "np.percentile(bootstrapped_55+_survey, [5,95])"
   ]
  },
  {
   "cell_type": "markdown",
   "id": "b687206c",
   "metadata": {},
   "source": [
    "# 95% Confidence Interval"
   ]
  },
  {
   "cell_type": "code",
   "execution_count": null,
   "id": "3295fb0c",
   "metadata": {},
   "outputs": [],
   "source": [
    "np.percentile(bootstrapped_55+_survey, [2.5,97.5])"
   ]
  },
  {
   "cell_type": "markdown",
   "id": "cedca22a",
   "metadata": {},
   "source": [
    "# 99% Confidence Interval"
   ]
  },
  {
   "cell_type": "code",
   "execution_count": null,
   "id": "fe9f0f83",
   "metadata": {},
   "outputs": [],
   "source": [
    "np.percentile(bootstrapped_55+_survey, [0.5,99.5])"
   ]
  },
  {
   "cell_type": "markdown",
   "id": "5ff3befa",
   "metadata": {},
   "source": [
    "# CLT"
   ]
  },
  {
   "cell_type": "code",
   "execution_count": null,
   "id": "d97ba4da",
   "metadata": {},
   "outputs": [],
   "source": [
    "df.groupby(['Gender'])['Purchase'].describe()"
   ]
  },
  {
   "cell_type": "code",
   "execution_count": null,
   "id": "791131e6",
   "metadata": {},
   "outputs": [],
   "source": [
    "sns.displot( x='Purchase', data=df, hue='Gender', bins=25)\n"
   ]
  },
  {
   "cell_type": "markdown",
   "id": "fbb98001",
   "metadata": {},
   "source": [
    "so, Here we are taking 300 random samples from the data and take its mean. we do this 1000 times.\n",
    "\n",
    "According to CLT, it should be normally distributed."
   ]
  },
  {
   "cell_type": "code",
   "execution_count": null,
   "id": "505c004a",
   "metadata": {},
   "outputs": [],
   "source": [
    "sample_size = 300\n",
    "Iterations = 1000"
   ]
  },
  {
   "cell_type": "markdown",
   "id": "8fd698df",
   "metadata": {},
   "source": [
    "# Male and female purchase comparison"
   ]
  },
  {
   "cell_type": "code",
   "execution_count": null,
   "id": "335cd838",
   "metadata": {},
   "outputs": [],
   "source": [
    "male_expense_mean=[df[df['Gender']=='M']['Purchase'].sample(sample_size).mean() for i in range(Iterations)]"
   ]
  },
  {
   "cell_type": "code",
   "execution_count": null,
   "id": "77b92e71",
   "metadata": {},
   "outputs": [],
   "source": [
    "female_expense_mean=[df[df['Gender']=='F']['Purchase'].sample(sample_size).mean() for i in range(Iterations)]"
   ]
  },
  {
   "cell_type": "code",
   "execution_count": null,
   "id": "9c45e8d1",
   "metadata": {},
   "outputs": [],
   "source": [
    "sns.distplot(male_expense_mean,bins=100)"
   ]
  },
  {
   "cell_type": "code",
   "execution_count": null,
   "id": "23fab1b1",
   "metadata": {},
   "outputs": [],
   "source": [
    "sns.distplot(female_expense_mean,bins=100)"
   ]
  },
  {
   "cell_type": "markdown",
   "id": "3ade7d61",
   "metadata": {},
   "source": [
    "# Married and Unmarried purchase comparison"
   ]
  },
  {
   "cell_type": "code",
   "execution_count": null,
   "id": "bb02f2ab",
   "metadata": {},
   "outputs": [],
   "source": [
    "married_expense_mean=[df[df['Marital_Status_category']=='Married']['Purchase'].sample(sample_size).mean() for i in range(Iterations)]"
   ]
  },
  {
   "cell_type": "code",
   "execution_count": null,
   "id": "3318f1f4",
   "metadata": {},
   "outputs": [],
   "source": [
    "unmarried_expense_mean=[df[df['Marital_Status_category']=='Unmarried']['Purchase'].sample(sample_size).mean() for i in range(Iterations)]"
   ]
  },
  {
   "cell_type": "code",
   "execution_count": null,
   "id": "236556f4",
   "metadata": {},
   "outputs": [],
   "source": [
    "sns.distplot(married_expense_mean,bins=100)"
   ]
  },
  {
   "cell_type": "code",
   "execution_count": null,
   "id": "802cd908",
   "metadata": {},
   "outputs": [],
   "source": [
    "sns.distplot(unmarried_expense_mean,bins=1000)"
   ]
  },
  {
   "cell_type": "code",
   "execution_count": null,
   "id": "ee752855",
   "metadata": {},
   "outputs": [],
   "source": [
    "age_group_expense_mean = []\n",
    "for val in ['26-35', '36-45', '18-25', '46-50', '51-55', '55+', '0-17']:\n",
    "    age_group_expense_mean.append([df[df['Age']== val ]['Purchase'].sample(sample_size).mean() for i in range(Iterations)])\n",
    "    sns.distplot(age_group_expense_mean,bins=100)"
   ]
  },
  {
   "cell_type": "markdown",
   "id": "d929e6c7",
   "metadata": {},
   "source": [
    "From here we can infer that almostall the ages category purchases are overlapping."
   ]
  },
  {
   "cell_type": "code",
   "execution_count": null,
   "id": "d63bf201",
   "metadata": {},
   "outputs": [],
   "source": [
    "fig, axis = plt.subplots(nrows = 2, ncols = 3, figsize = (20,16))\n",
    "sns.countplot(x = \"Age\", hue =\"Gender\", data = df, ax=axis[0,0])\n",
    "sns.countplot(x = \"Age\", hue =\"Marital_Status_category\", data = df, ax=axis[0,1])\n",
    "sns.countplot(x = \"Gender\", hue =\"Marital_Status_category\", data = df, ax=axis[0,2])\n",
    "sns.countplot(x = \"Age\", hue =\"City_Category\", data = df, ax=axis[1,0])\n",
    "sns.countplot(x = \"City_Category\", hue =\"Marital_Status_category\", data = df, ax=axis[1,1])\n",
    "sns.countplot(x = \"City_Category\", hue =\"Gender\", data = df, ax=axis[1,2])\n",
    "\n",
    "axis[0,0].set_title(\"Age vs Gender\")\n",
    "axis[0,1].set_title(\"Age vs Marital_Status_category\")\n",
    "axis[0,2].set_title(\"Gender vs Marital_Status_category\")\n",
    "axis[1,0].set_title(\"Age vs City_Category\")\n",
    "axis[1,1].set_title(\"City_Category vs Marital_Status_category\")\n",
    "axis[1,2].set_title(\"City_Category vs Gender\")\n",
    "\n",
    "plt.show()"
   ]
  },
  {
   "cell_type": "code",
   "execution_count": null,
   "id": "02b9f870",
   "metadata": {},
   "outputs": [],
   "source": [
    "fig, axis = plt.subplots(nrows=2, ncols=2, figsize=(12, 10))\n",
    "fig.subplots_adjust(top=1.2)\n",
    "\n",
    "sns.histplot(data=df, x=\"User_ID\", kde=True, ax=axis[0,0])\n",
    "sns.histplot(data=df, x=\"Occupation\", kde=True, ax=axis[0,1])\n",
    "sns.histplot(data=df, x=\"Product_Category\", kde=True, ax=axis[1,0])\n",
    "sns.histplot(data=df, x=\"Purchase\", kde=True, ax=axis[1,1])\n",
    "axis[0,0].set_title(\"User_ID count\")\n",
    "axis[0,1].set_title(\"Occupation Count\")\n",
    "axis[1,0].set_title(\"Product_Category Count\")\n",
    "axis[1,1].set_title(\"Purchase Count\")\n",
    "\n",
    "plt.show()\n"
   ]
  },
  {
   "cell_type": "code",
   "execution_count": null,
   "id": "af0b54d5",
   "metadata": {},
   "outputs": [],
   "source": [
    "sns.pairplot(df)"
   ]
  },
  {
   "cell_type": "code",
   "execution_count": null,
   "id": "f5d8d710",
   "metadata": {},
   "outputs": [],
   "source": [
    "df.corr()"
   ]
  },
  {
   "cell_type": "code",
   "execution_count": null,
   "id": "ef58993c",
   "metadata": {},
   "outputs": [],
   "source": [
    "#plt.figure(figsize=(15,10))\n",
    "sns.heatmap(df.corr(), annot = True)"
   ]
  },
  {
   "cell_type": "markdown",
   "id": "9262d1fc",
   "metadata": {},
   "source": [
    "# Perform the same activity for Married vs Unmarried and Age For Age, you can try bins based on life stages: 0-17, 18-25, 26-35, 36-50, 51+ years."
   ]
  },
  {
   "cell_type": "code",
   "execution_count": null,
   "id": "2b8359fc",
   "metadata": {},
   "outputs": [],
   "source": [
    "df.groupby(['Marital_Status'])['Purchase'].describe()"
   ]
  },
  {
   "cell_type": "code",
   "execution_count": null,
   "id": "2754e220",
   "metadata": {},
   "outputs": [],
   "source": [
    "sns.displot( x='Purchase', data=df, hue='Marital_Status', bins=25)"
   ]
  },
  {
   "cell_type": "code",
   "execution_count": null,
   "id": "eefd33a4",
   "metadata": {},
   "outputs": [],
   "source": [
    "df.groupby(['Age'])['Purchase'].describe()"
   ]
  },
  {
   "cell_type": "code",
   "execution_count": null,
   "id": "fd0a110f",
   "metadata": {},
   "outputs": [],
   "source": [
    "data = df['Age'].value_counts(normalize=True)*100"
   ]
  },
  {
   "cell_type": "code",
   "execution_count": null,
   "id": "61acbbc9",
   "metadata": {},
   "outputs": [],
   "source": [
    "fig, axs = plt.subplots(nrows=1, ncols=2, figsize=(12, 8))\n",
    "\n",
    "data = df['Age'].value_counts(normalize=True)*100\n",
    "#palette_color = sns.color_palette('BrBG_r')\n",
    "axs[0].pie(x=data.values, labels=data.index, autopct='%.0f%%') # colors=palette_color)\n",
    "axs[0].set_title(\"Age wise Distribution of Users of Black friday sale\")\n",
    "\n",
    "data = df['Stay_In_Current_City_Years'].value_counts(normalize=True)*100\n",
    "#palette_color = sns.color_palette('YlOrRd_r')\n",
    "axs[1].pie(x=data.values, labels=data.index, autopct='%.0f%%')# colors=palette_color)\n",
    "axs[1].set_title(\"Stay_In_Current_City_Years distribution\")\n",
    "plt.show()"
   ]
  },
  {
   "cell_type": "markdown",
   "id": "3c1df167",
   "metadata": {},
   "source": [
    "# INSIGHTS:"
   ]
  },
  {
   "cell_type": "markdown",
   "id": "7e28754e",
   "metadata": {},
   "source": [
    "1. Maximum i.e. 75% are the male population whereas 25% only is female population.\n",
    "2. Most active age group is 26-35, So as to give \n",
    "3. 26-35 age group is most active and having maximum involvement.\n",
    "4. Product Category 1,5 and 8 are having maximum demand.\n",
    "5. Most users belong to country B\n",
    "6. Unmarried male > Married male > Unmarried female> Married female is the flow of the Users purchase value.\n",
    "7. people who are living in city for one year are doing more shopping than others"
   ]
  },
  {
   "cell_type": "markdown",
   "id": "e0214fcc",
   "metadata": {},
   "source": [
    "# Recommendations"
   ]
  },
  {
   "cell_type": "markdown",
   "id": "3eff3489",
   "metadata": {},
   "source": [
    "1. Different new Items for Female should be added as to attract them as we see very less involvement of females in the sale.\n",
    "2. Age 0-17 and 55+ is the least, so to bring more products for these categories and attracting discounts and offers can be increased so as to increase this count. Age plays a crucial role in purchasing power, products appealing to older people are pretty rare as per the data.there could be more awareness created about the products sold at supermarket, it is an unsaturated market.\n",
    "3. Maintain the stock of the most demanded products (like 1 , 5 , 8 ).\n",
    "4. The stock of all the required products in the country B should be maintained.\n",
    "5. Product to attract or tempt woman are lagging as we can see less involvement of women , so to increase the revenue more products or offers or discounts for female to be given so as to increase women involvement.\n",
    "6. Married and unmarried people tend to have no difference in spending patterns, but they do have significant differences in product patterns, targteting those products will be a good start\n",
    "7. cThe data stays true to CLT and has approimately the same mean and median even for sampled data asdemonstrated above"
   ]
  }
 ],
 "metadata": {
  "kernelspec": {
   "display_name": "Python 3 (ipykernel)",
   "language": "python",
   "name": "python3"
  },
  "language_info": {
   "codemirror_mode": {
    "name": "ipython",
    "version": 3
   },
   "file_extension": ".py",
   "mimetype": "text/x-python",
   "name": "python",
   "nbconvert_exporter": "python",
   "pygments_lexer": "ipython3",
   "version": "3.9.13"
  }
 },
 "nbformat": 4,
 "nbformat_minor": 5
}
